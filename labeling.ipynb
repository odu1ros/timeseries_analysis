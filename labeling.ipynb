{
 "cells": [
  {
   "cell_type": "code",
   "execution_count": 53,
   "id": "9da9221f",
   "metadata": {},
   "outputs": [],
   "source": [
    "import pandas as pd\n",
    "import numpy as np\n",
    "import warnings\n",
    "warnings.filterwarnings('ignore')\n",
    "import yfinance as yf\n",
    "from pandas_datareader.data import DataReader\n",
    "import matplotlib.pyplot as plt\n",
    "import scipy\n",
    "import scipy.stats as st\n",
    "from statsmodels.tsa.seasonal import STL\n",
    "from scipy import signal\n",
    "import pingouin as pg"
   ]
  },
  {
   "cell_type": "markdown",
   "id": "b6568ea4",
   "metadata": {},
   "source": [
    "# loading news and data"
   ]
  },
  {
   "cell_type": "code",
   "execution_count": 23,
   "id": "58445800",
   "metadata": {},
   "outputs": [
    {
     "data": {
      "text/html": [
       "<div>\n",
       "<style scoped>\n",
       "    .dataframe tbody tr th:only-of-type {\n",
       "        vertical-align: middle;\n",
       "    }\n",
       "\n",
       "    .dataframe tbody tr th {\n",
       "        vertical-align: top;\n",
       "    }\n",
       "\n",
       "    .dataframe thead th {\n",
       "        text-align: right;\n",
       "    }\n",
       "</style>\n",
       "<table border=\"1\" class=\"dataframe\">\n",
       "  <thead>\n",
       "    <tr style=\"text-align: right;\">\n",
       "      <th></th>\n",
       "      <th>date</th>\n",
       "      <th>title</th>\n",
       "      <th>summary</th>\n",
       "    </tr>\n",
       "  </thead>\n",
       "  <tbody>\n",
       "    <tr>\n",
       "      <th>0</th>\n",
       "      <td>2014-12-31</td>\n",
       "      <td>Standouts in Tech: Drones, Virtual Reality, In...</td>\n",
       "      <td>Farhad Manjoo picks four products from 2014 th...</td>\n",
       "    </tr>\n",
       "    <tr>\n",
       "      <th>1</th>\n",
       "      <td>2015-01-01</td>\n",
       "      <td>Digital Tax Increase to Take Effect in Europe</td>\n",
       "      <td>New rules are coming into force for services l...</td>\n",
       "    </tr>\n",
       "    <tr>\n",
       "      <th>2</th>\n",
       "      <td>2015-01-01</td>\n",
       "      <td>Web Freedom Is Seen as a Growing Global Issue</td>\n",
       "      <td>The new year promises further attempts at onli...</td>\n",
       "    </tr>\n",
       "    <tr>\n",
       "      <th>3</th>\n",
       "      <td>2015-02-01</td>\n",
       "      <td>A Day With Apple Pay</td>\n",
       "      <td>The success of Apple Pay will in part be deter...</td>\n",
       "    </tr>\n",
       "    <tr>\n",
       "      <th>4</th>\n",
       "      <td>2015-02-01</td>\n",
       "      <td>Daily Report: Web Freedom Is Seen as a Growing...</td>\n",
       "      <td>The new year promises further attempts at onli...</td>\n",
       "    </tr>\n",
       "  </tbody>\n",
       "</table>\n",
       "</div>"
      ],
      "text/plain": [
       "        date                                              title  \\\n",
       "0 2014-12-31  Standouts in Tech: Drones, Virtual Reality, In...   \n",
       "1 2015-01-01      Digital Tax Increase to Take Effect in Europe   \n",
       "2 2015-01-01      Web Freedom Is Seen as a Growing Global Issue   \n",
       "3 2015-02-01                               A Day With Apple Pay   \n",
       "4 2015-02-01  Daily Report: Web Freedom Is Seen as a Growing...   \n",
       "\n",
       "                                             summary  \n",
       "0  Farhad Manjoo picks four products from 2014 th...  \n",
       "1  New rules are coming into force for services l...  \n",
       "2  The new year promises further attempts at onli...  \n",
       "3  The success of Apple Pay will in part be deter...  \n",
       "4  The new year promises further attempts at onli...  "
      ]
     },
     "execution_count": 23,
     "metadata": {},
     "output_type": "execute_result"
    }
   ],
   "source": [
    "total_news = pd.read_csv('data/total_news_without_dupl.csv', sep=\";\",infer_datetime_format=True)\n",
    "# total_news['date'].astype('datetime64')\n",
    "total_news[\"date\"]= pd.to_datetime(total_news[\"date\"])\n",
    "total_news.head()"
   ]
  },
  {
   "cell_type": "code",
   "execution_count": 157,
   "id": "1ca5048b",
   "metadata": {},
   "outputs": [
    {
     "data": {
      "text/plain": [
       "Date\n",
       "2014-12-31   -0.010311\n",
       "2015-01-02   -0.000340\n",
       "2015-01-05   -0.018278\n",
       "2015-01-06   -0.008893\n",
       "2015-01-07    0.011630\n",
       "                ...   \n",
       "2022-01-03    0.006374\n",
       "2022-01-04   -0.000630\n",
       "2022-01-05   -0.019393\n",
       "2022-01-06   -0.000964\n",
       "2022-01-07   -0.004050\n",
       "Name: Adj Close, Length: 1769, dtype: float64"
      ]
     },
     "execution_count": 157,
     "metadata": {},
     "output_type": "execute_result"
    }
   ],
   "source": [
    "spx_index = DataReader('^GSPC', 'yahoo', '2014-12-30', '2022-01-09')['Adj Close']\n",
    "spx_returns = spx_index.pct_change().dropna()\n",
    "spx_returns"
   ]
  },
  {
   "cell_type": "markdown",
   "id": "12ff4773",
   "metadata": {},
   "source": [
    "# Data density and distribution functions"
   ]
  },
  {
   "cell_type": "code",
   "execution_count": 25,
   "id": "023602d3",
   "metadata": {},
   "outputs": [
    {
     "data": {
      "text/plain": [
       "<AxesSubplot:ylabel='Density'>"
      ]
     },
     "execution_count": 25,
     "metadata": {},
     "output_type": "execute_result"
    },
    {
     "data": {
      "image/png": "[encoded data removed]",
      "text/plain": [
       "<Figure size 432x288 with 1 Axes>"
      ]
     },
     "metadata": {
      "needs_background": "light"
     },
     "output_type": "display_data"
    }
   ],
   "source": [
    "spx_returns.plot(kind='kde')"
   ]
  },
  {
   "cell_type": "code",
   "execution_count": 26,
   "id": "d62a9997",
   "metadata": {},
   "outputs": [
    {
     "data": {
      "text/plain": [
       "(array([  1.,   0.,   0.,   0.,   0.,   0.,   0.,   0.,   0.,   0.,   0.,\n",
       "          0.,   0.,   0.,   0.,   0.,   0.,   0.,   0.,   0.,   0.,   0.,\n",
       "          0.,   1.,   0.,   0.,   0.,   0.,   0.,   0.,   0.,   0.,   0.,\n",
       "          0.,   0.,   0.,   0.,   0.,   0.,   0.,   0.,   1.,   0.,   0.,\n",
       "          0.,   0.,   0.,   0.,   0.,   0.,   0.,   0.,   0.,   0.,   0.,\n",
       "          0.,   0.,   1.,   0.,   0.,   0.,   0.,   0.,   1.,   0.,   0.,\n",
       "          1.,   0.,   0.,   0.,   2.,   1.,   0.,   1.,   0.,   1.,   0.,\n",
       "          1.,   1.,   2.,   3.,   2.,   1.,   3.,   4.,   2.,   2.,   2.,\n",
       "          4.,   7.,   2.,   4.,   9.,   3.,   8.,  11.,   8.,  11.,  13.,\n",
       "         14.,  13.,  17.,  16.,  23.,  41.,  39.,  42.,  52.,  60.,  83.,\n",
       "        126., 142., 129., 139.,  97.,  89.,  76.,  58.,  55.,  58.,  44.,\n",
       "         31.,  43.,  29.,  26.,  24.,  16.,  18.,  10.,   5.,   4.,   4.,\n",
       "          5.,   3.,   3.,   2.,   1.,   3.,   0.,   0.,   1.,   1.,   0.,\n",
       "          1.,   2.,   0.,   0.,   0.,   1.,   0.,   0.,   1.,   0.,   0.,\n",
       "          0.,   1.,   0.,   0.,   2.,   0.,   0.,   0.,   0.,   0.,   0.,\n",
       "          0.,   0.,   0.,   1.,   0.,   1.,   0.,   0.,   0.,   0.,   0.,\n",
       "          0.,   0.,   1.,   0.,   0.,   0.,   0.,   0.,   0.,   0.,   0.,\n",
       "          0.,   0.,   0.,   0.,   0.,   0.,   0.,   0.,   0.,   0.,   0.,\n",
       "          0.,   2.]),\n",
       " array([-0.11984055, -0.11877221, -0.11770387, -0.11663553, -0.11556719,\n",
       "        -0.11449885, -0.1134305 , -0.11236216, -0.11129382, -0.11022548,\n",
       "        -0.10915714, -0.1080888 , -0.10702045, -0.10595211, -0.10488377,\n",
       "        -0.10381543, -0.10274709, -0.10167875, -0.10061041, -0.09954206,\n",
       "        -0.09847372, -0.09740538, -0.09633704, -0.0952687 , -0.09420036,\n",
       "        -0.09313202, -0.09206367, -0.09099533, -0.08992699, -0.08885865,\n",
       "        -0.08779031, -0.08672197, -0.08565363, -0.08458528, -0.08351694,\n",
       "        -0.0824486 , -0.08138026, -0.08031192, -0.07924358, -0.07817524,\n",
       "        -0.07710689, -0.07603855, -0.07497021, -0.07390187, -0.07283353,\n",
       "        -0.07176519, -0.07069685, -0.0696285 , -0.06856016, -0.06749182,\n",
       "        -0.06642348, -0.06535514, -0.0642868 , -0.06321845, -0.06215011,\n",
       "        -0.06108177, -0.06001343, -0.05894509, -0.05787675, -0.05680841,\n",
       "        -0.05574006, -0.05467172, -0.05360338, -0.05253504, -0.0514667 ,\n",
       "        -0.05039836, -0.04933002, -0.04826167, -0.04719333, -0.04612499,\n",
       "        -0.04505665, -0.04398831, -0.04291997, -0.04185163, -0.04078328,\n",
       "        -0.03971494, -0.0386466 , -0.03757826, -0.03650992, -0.03544158,\n",
       "        -0.03437324, -0.03330489, -0.03223655, -0.03116821, -0.03009987,\n",
       "        -0.02903153, -0.02796319, -0.02689485, -0.0258265 , -0.02475816,\n",
       "        -0.02368982, -0.02262148, -0.02155314, -0.0204848 , -0.01941646,\n",
       "        -0.01834811, -0.01727977, -0.01621143, -0.01514309, -0.01407475,\n",
       "        -0.01300641, -0.01193806, -0.01086972, -0.00980138, -0.00873304,\n",
       "        -0.0076647 , -0.00659636, -0.00552802, -0.00445967, -0.00339133,\n",
       "        -0.00232299, -0.00125465, -0.00018631,  0.00088203,  0.00195037,\n",
       "         0.00301872,  0.00408706,  0.0051554 ,  0.00622374,  0.00729208,\n",
       "         0.00836042,  0.00942876,  0.01049711,  0.01156545,  0.01263379,\n",
       "         0.01370213,  0.01477047,  0.01583881,  0.01690715,  0.0179755 ,\n",
       "         0.01904384,  0.02011218,  0.02118052,  0.02224886,  0.0233172 ,\n",
       "         0.02438554,  0.02545389,  0.02652223,  0.02759057,  0.02865891,\n",
       "         0.02972725,  0.03079559,  0.03186394,  0.03293228,  0.03400062,\n",
       "         0.03506896,  0.0361373 ,  0.03720564,  0.03827398,  0.03934233,\n",
       "         0.04041067,  0.04147901,  0.04254735,  0.04361569,  0.04468403,\n",
       "         0.04575237,  0.04682072,  0.04788906,  0.0489574 ,  0.05002574,\n",
       "         0.05109408,  0.05216242,  0.05323076,  0.05429911,  0.05536745,\n",
       "         0.05643579,  0.05750413,  0.05857247,  0.05964081,  0.06070915,\n",
       "         0.0617775 ,  0.06284584,  0.06391418,  0.06498252,  0.06605086,\n",
       "         0.0671192 ,  0.06818754,  0.06925589,  0.07032423,  0.07139257,\n",
       "         0.07246091,  0.07352925,  0.07459759,  0.07566593,  0.07673428,\n",
       "         0.07780262,  0.07887096,  0.0799393 ,  0.08100764,  0.08207598,\n",
       "         0.08314433,  0.08421267,  0.08528101,  0.08634935,  0.08741769,\n",
       "         0.08848603,  0.08955437,  0.09062272,  0.09169106,  0.0927594 ,\n",
       "         0.09382774]),\n",
       " <BarContainer object of 200 artists>)"
      ]
     },
     "execution_count": 26,
     "metadata": {},
     "output_type": "execute_result"
    },
    {
     "data": {
      "image/png": "[encoded data removed]",
      "text/plain": [
       "<Figure size 432x288 with 1 Axes>"
      ]
     },
     "metadata": {
      "needs_background": "light"
     },
     "output_type": "display_data"
    }
   ],
   "source": [
    "plt.hist(spx_returns, bins=200)"
   ]
  },
  {
   "cell_type": "code",
   "execution_count": 27,
   "id": "b503af7a",
   "metadata": {},
   "outputs": [
    {
     "name": "stdout",
     "output_type": "stream",
     "text": [
      "p = 7.29083e-121\n",
      "The null hypothesis cannot be rejected\n"
     ]
    }
   ],
   "source": [
    "# scipy.stats.normaltest(spx_returns)\n",
    "rng = np.random.default_rng()\n",
    "k2, p = st.normaltest(spx_returns)\n",
    "alpha = 1e-3\n",
    "print(\"p = {:g}\".format(p))\n",
    "p = 0.05\n",
    "if p < alpha:  # null hypothesis: x comes from a normal distribution\n",
    "    print(\"The null hypothesis can be rejected\")\n",
    "else:\n",
    "    print(\"The null hypothesis cannot be rejected\")"
   ]
  },
  {
   "cell_type": "markdown",
   "id": "44d03af0",
   "metadata": {},
   "source": [
    "# Confidence interval without considering trend influence"
   ]
  },
  {
   "cell_type": "code",
   "execution_count": 28,
   "id": "b66ab87a",
   "metadata": {},
   "outputs": [
    {
     "data": {
      "text/plain": [
       "(-5.192525510000967e-06, 0.0010500235317182683)"
      ]
     },
     "execution_count": 28,
     "metadata": {},
     "output_type": "execute_result"
    }
   ],
   "source": [
    "conf_int = st.t.interval(alpha=0.95, df=len(spx_returns)-1, loc=np.mean(spx_returns), scale=st.sem(spx_returns))\n",
    "conf_int"
   ]
  },
  {
   "cell_type": "code",
   "execution_count": 29,
   "id": "396be523",
   "metadata": {},
   "outputs": [
    {
     "data": {
      "text/plain": [
       "Date\n",
       "2014-12-31   -0.010311\n",
       "2015-01-02   -0.000340\n",
       "2015-01-05   -0.018278\n",
       "2015-01-06   -0.008893\n",
       "2015-01-09   -0.008404\n",
       "                ...   \n",
       "2021-12-22    0.010180\n",
       "2021-12-23    0.006224\n",
       "2021-12-27    0.013839\n",
       "2021-12-29    0.001402\n",
       "2022-01-03    0.006374\n",
       "Name: Adj Close, Length: 1643, dtype: float64"
      ]
     },
     "execution_count": 29,
     "metadata": {},
     "output_type": "execute_result"
    }
   ],
   "source": [
    "outliers_negative = spx_returns[spx_returns <= conf_int[0]]\n",
    "outliers_positive = spx_returns[spx_returns >= conf_int[1]]\n",
    "outliers = pd.concat([outliers_negative, outliers_positive], ignore_index=False)\n",
    "outliers"
   ]
  },
  {
   "cell_type": "code",
   "execution_count": 161,
   "id": "391fb98a",
   "metadata": {},
   "outputs": [
    {
     "data": {
      "text/plain": [
       "Index(['Date', 'Adj Close'], dtype='object')"
      ]
     },
     "execution_count": 161,
     "metadata": {},
     "output_type": "execute_result"
    }
   ],
   "source": [
    "spx_returns_date = spx_returns.reset_index(drop=False)\n",
    "spx_index_date = spx_index.reset_index(drop=False)\n",
    "spx_index_date.columns"
   ]
  },
  {
   "cell_type": "markdown",
   "id": "f814e462",
   "metadata": {},
   "source": [
    "# Seasonality and trend decomposition with STL"
   ]
  },
  {
   "cell_type": "code",
   "execution_count": 179,
   "id": "b4f5dc56",
   "metadata": {},
   "outputs": [],
   "source": [
    "stl = STL(spx_returns_date['Adj Close'], period=12)\n",
    "returns_stl_result = stl.fit()"
   ]
  },
  {
   "cell_type": "code",
   "execution_count": 180,
   "id": "b938f52c",
   "metadata": {},
   "outputs": [],
   "source": [
    "seasonal, trend, resid = returns_stl_result.seasonal, returns_stl_result.trend, returns_stl_result.resid"
   ]
  },
  {
   "cell_type": "code",
   "execution_count": 181,
   "id": "c8cc92f6",
   "metadata": {},
   "outputs": [
    {
     "data": {
      "image/png": "[encoded data removed]",
      "text/plain": [
       "<Figure size 576x432 with 4 Axes>"
      ]
     },
     "metadata": {
      "needs_background": "light"
     },
     "output_type": "display_data"
    }
   ],
   "source": [
    "plt.figure(figsize=(8,6))\n",
    "\n",
    "plt.subplot(4,1,1)\n",
    "plt.plot(spx_returns)\n",
    "plt.title('Original Series', fontsize=16)\n",
    "\n",
    "plt.subplot(4,1,2)\n",
    "plt.plot(trend)\n",
    "plt.title('Trend', fontsize=16)\n",
    "\n",
    "plt.subplot(4,1,3)\n",
    "plt.plot(seasonal)\n",
    "plt.title('Seasonal', fontsize=16)\n",
    "\n",
    "plt.subplot(4,1,4)\n",
    "plt.plot(resid)\n",
    "plt.title('Residual', fontsize=16)\n",
    "\n",
    "plt.tight_layout()"
   ]
  },
  {
   "cell_type": "markdown",
   "id": "b810e1e9",
   "metadata": {},
   "source": [
    "# Detrending returns"
   ]
  },
  {
   "cell_type": "code",
   "execution_count": 147,
   "id": "85952279",
   "metadata": {},
   "outputs": [
    {
     "data": {
      "text/plain": [
       "<AxesSubplot:>"
      ]
     },
     "execution_count": 147,
     "metadata": {},
     "output_type": "execute_result"
    },
    {
     "data": {
      "image/png": "[encoded data removed]",
      "text/plain": [
       "<Figure size 432x288 with 1 Axes>"
      ]
     },
     "metadata": {
      "needs_background": "light"
     },
     "output_type": "display_data"
    }
   ],
   "source": [
    "detrended = signal.detrend(spx_returns)\n",
    "detrended_spx_returns = pd.DataFrame(detrended, columns = ['return'])\n",
    "detrended_spx_returns['date'] = spx_returns_date['Date'].copy()\n",
    "detrended_spx_returns['return'].plot()"
   ]
  },
  {
   "cell_type": "markdown",
   "id": "9062c5cd",
   "metadata": {},
   "source": [
    "# Detrending prices and calculating returns afterwards"
   ]
  },
  {
   "cell_type": "code",
   "execution_count": 182,
   "id": "6a2073f9",
   "metadata": {},
   "outputs": [
    {
     "data": {
      "text/plain": [
       "<AxesSubplot:xlabel='Date'>"
      ]
     },
     "execution_count": 182,
     "metadata": {},
     "output_type": "execute_result"
    },
    {
     "data": {
      "image/png": "[encoded data removed]",
      "text/plain": [
       "<Figure size 432x288 with 1 Axes>"
      ]
     },
     "metadata": {
      "needs_background": "light"
     },
     "output_type": "display_data"
    }
   ],
   "source": [
    "spx_index.plot()"
   ]
  },
  {
   "cell_type": "code",
   "execution_count": 166,
   "id": "f4d0ca68",
   "metadata": {},
   "outputs": [
    {
     "data": {
      "text/plain": [
       "<AxesSubplot:>"
      ]
     },
     "execution_count": 166,
     "metadata": {},
     "output_type": "execute_result"
    },
    {
     "data": {
      "image/png": "[encoded data removed]",
      "text/plain": [
       "<Figure size 432x288 with 1 Axes>"
      ]
     },
     "metadata": {
      "needs_background": "light"
     },
     "output_type": "display_data"
    }
   ],
   "source": [
    "detrended = signal.detrend(spx_index)\n",
    "detrended_spx_index = pd.DataFrame(detrended, columns = ['return'])\n",
    "detrended_spx_index['return'].plot()"
   ]
  },
  {
   "cell_type": "code",
   "execution_count": 175,
   "id": "2f266a95",
   "metadata": {},
   "outputs": [
    {
     "name": "stdout",
     "output_type": "stream",
     "text": [
      "        return       date\n",
      "1    -0.052313 2014-12-31\n",
      "2    -0.004934 2015-01-02\n",
      "3    -0.094839 2015-01-05\n",
      "4    -0.051927 2015-01-06\n",
      "5     0.062278 2015-01-07\n",
      "...        ...        ...\n",
      "1765  0.038058 2022-01-03\n",
      "1766 -0.005500 2022-01-04\n",
      "1767 -0.119696 2022-01-05\n",
      "1768 -0.008460 2022-01-06\n",
      "1769 -0.029604 2022-01-07\n",
      "\n",
      "[1769 rows x 2 columns]\n"
     ]
    },
    {
     "data": {
      "text/plain": [
       "<AxesSubplot:>"
      ]
     },
     "execution_count": 175,
     "metadata": {},
     "output_type": "execute_result"
    },
    {
     "data": {
      "image/png": "[encoded data removed]",
      "text/plain": [
       "<Figure size 432x288 with 1 Axes>"
      ]
     },
     "metadata": {
      "needs_background": "light"
     },
     "output_type": "display_data"
    }
   ],
   "source": [
    "detrended_index_spx_returns = detrended_spx_index.pct_change().dropna()\n",
    "detrended_index_spx_returns['date'] = spx_index_date['Date'].copy()\n",
    "print(detrended_index_spx_returns)\n",
    "detrended_index_spx_returns['return'].plot()"
   ]
  },
  {
   "cell_type": "markdown",
   "id": "f59a5352",
   "metadata": {},
   "source": [
    "# Looking for anomalies in n days intervals"
   ]
  },
  {
   "cell_type": "code",
   "execution_count": 244,
   "id": "93bdc645",
   "metadata": {
    "scrolled": true
   },
   "outputs": [
    {
     "name": "stdout",
     "output_type": "stream",
     "text": [
      "         p-val                 date  conf_int_lower  conf_int_upper    return\n",
      "0     0.877540  2015-02-13 00:00:00       -0.002673        0.002017  0.004075\n",
      "1     0.638254  2015-02-17 00:00:00       -0.002354        0.002327  0.001598\n",
      "2     0.709327  2015-02-18 00:00:00       -0.002136        0.002628 -0.000314\n",
      "3     0.421832  2015-02-19 00:00:00       -0.001871        0.002757 -0.001062\n",
      "4     0.326099  2015-02-20 00:00:00       -0.001755        0.002836  0.006127\n",
      "...        ...                  ...             ...             ...       ...\n",
      "1734  0.413837  2022-01-03 00:00:00       -0.003791        0.003918  0.006374\n",
      "1735  0.261526  2022-01-04 00:00:00       -0.004264        0.003644 -0.000630\n",
      "1736  0.201754  2022-01-05 00:00:00       -0.004163        0.004049 -0.019393\n",
      "1737  0.681767  2022-01-06 00:00:00       -0.003381        0.004680 -0.000964\n",
      "1738  0.732512  2022-01-07 00:00:00       -0.004388        0.004391 -0.004050\n",
      "\n",
      "[1739 rows x 5 columns]\n",
      "        return  conf_int_lower  conf_int_upper                 date\n",
      "248  -0.000664       -0.002924        0.003342  2016-02-09 00:00:00\n",
      "249  -0.000189       -0.003182        0.003161  2016-02-10 00:00:00\n",
      "250  -0.012301       -0.003270        0.003087  2016-02-11 00:00:00\n",
      "251   0.019518       -0.003200        0.003055  2016-02-12 00:00:00\n",
      "252   0.016517       -0.003557        0.002583  2016-02-16 00:00:00\n",
      "375  -0.002865       -0.000617        0.002970  2016-08-10 00:00:00\n",
      "435  -0.004423       -0.000714        0.002383  2016-11-03 00:00:00\n",
      "436  -0.001666       -0.000797        0.002303  2016-11-04 00:00:00\n",
      "437   0.022224       -0.000770        0.002318  2016-11-07 00:00:00\n",
      "438   0.003772       -0.000769        0.001858  2016-11-08 00:00:00\n",
      "515  -0.005860       -0.000573        0.001400  2017-03-02 00:00:00\n",
      "516   0.000504       -0.000419        0.001729  2017-03-03 00:00:00\n",
      "517  -0.003277       -0.000627        0.001608  2017-03-06 00:00:00\n",
      "894   0.000134       -0.002121        0.001369  2018-08-31 00:00:00\n",
      "972  -0.027112       -0.003768        0.003739  2018-12-24 00:00:00\n",
      "973   0.049594       -0.003600        0.003805  2018-12-26 00:00:00\n",
      "974   0.008563       -0.004616        0.002171  2018-12-27 00:00:00\n",
      "1053  0.008841       -0.001934        0.001971  2019-04-23 00:00:00\n",
      "1080 -0.013195       -0.001428        0.002495  2019-05-31 00:00:00\n",
      "1081 -0.002765       -0.000987        0.002819  2019-06-03 00:00:00\n",
      "1082  0.021432       -0.001249        0.002672  2019-06-04 00:00:00\n",
      "1083  0.008162       -0.001609        0.002046  2019-06-05 00:00:00\n",
      "1240  0.003862       -0.003616        0.001853  2020-01-17 00:00:00\n",
      "1672  0.010525       -0.000659        0.002982  2021-10-05 00:00:00\n",
      "1673  0.004103       -0.001226        0.002443  2021-10-06 00:00:00\n",
      "1674  0.008298       -0.001105        0.002626  2021-10-07 00:00:00\n",
      "1678  0.003023       -0.001195        0.002481  2021-10-13 00:00:00\n",
      "1679  0.017063       -0.001237        0.002439  2021-10-14 00:00:00\n"
     ]
    }
   ],
   "source": [
    "#n - количества дней по каждую сторону от выбранной даты\n",
    "from statsmodels.stats.weightstats import ttest_ind\n",
    "n = 30\n",
    "df = pd.DataFrame(0, index=np.arange(len(spx_returns-(2*n-1))), columns=['p-val', 'date', 'conf_int_lower', 'conf_int_upper', 'return'])\n",
    "# df.loc[0:len(detrended_spx_returns)-(2*n-1), 'p-val'] = 0\n",
    "# print(len(detrended_spx_returns), len(df))\n",
    "for i in range(n, len(df)):\n",
    "    n_pred = spx_returns[i - n:i - 1]\n",
    "    n_post = spx_returns[i:i + (n - 1)]\n",
    "    n_concat = pd.concat([n_pred, n_post])\n",
    "    results = ttest_ind(n_pred,n_post)\n",
    "#     print(results[1].item(0))\n",
    "#     df.iloc[0, 0] = results[1].item(0)\n",
    "#     print(df)\n",
    "    df.iloc[i-n, 0] = results[1].item(0)\n",
    "    df.iloc[i-n, 1] = spx_returns_date.iloc[i, 0]\n",
    "    conf_int_10days = st.t.interval(alpha=0.95, df=len(n_concat)-1, loc=np.mean(n_concat), scale=st.sem(n_concat))\n",
    "    df.iloc[i-n, 2] = conf_int_10days[0]\n",
    "    df.iloc[i-n, 3] = conf_int_10days[1]\n",
    "    df.iloc[i-n, 4] = spx_returns[i]\n",
    "\n",
    "p_values_spx = df[:-n]\n",
    "print(p_values_spx)\n",
    "    \n",
    "n_days_analysis_anom = p_values_spx[p_values_spx['p-val'] <= 0.05][['return', 'conf_int_lower', 'conf_int_upper', 'date']]\n",
    "print(n_days_analysis_anom)"
   ]
  },
  {
   "cell_type": "markdown",
   "id": "94506f56",
   "metadata": {},
   "source": [
    "# Looking for anomalies via looking at data distribution (2 st devs)"
   ]
  },
  {
   "cell_type": "code",
   "execution_count": 236,
   "id": "bdfccd4d",
   "metadata": {},
   "outputs": [
    {
     "name": "stdout",
     "output_type": "stream",
     "text": [
      "return   -3.005612e-19\n",
      "dtype: float64 [-0.02262190615584055, 0.02262190615584055]\n"
     ]
    }
   ],
   "source": [
    "# detrended returns - FOR COMPARISON\n",
    "spx_returns_mu_detrend = detrended_spx_returns.mean()\n",
    "spx_returns_dev_detrend = detrended_spx_returns.std()\n",
    "\n",
    "lower_detrend = spx_returns_mu_detrend - 2*spx_returns_dev_detrend\n",
    "upper_detrend = spx_returns_mu_detrend + 2*spx_returns_dev_detrend\n",
    "print(spx_returns_mu_detrend, [lower_detrend[1], upper_detrend[1]])"
   ]
  },
  {
   "cell_type": "code",
   "execution_count": 252,
   "id": "c9c5fd59",
   "metadata": {},
   "outputs": [
    {
     "data": {
      "text/html": [
       "<div>\n",
       "<style scoped>\n",
       "    .dataframe tbody tr th:only-of-type {\n",
       "        vertical-align: middle;\n",
       "    }\n",
       "\n",
       "    .dataframe tbody tr th {\n",
       "        vertical-align: top;\n",
       "    }\n",
       "\n",
       "    .dataframe thead th {\n",
       "        text-align: right;\n",
       "    }\n",
       "</style>\n",
       "<table border=\"1\" class=\"dataframe\">\n",
       "  <thead>\n",
       "    <tr style=\"text-align: right;\">\n",
       "      <th></th>\n",
       "      <th>date</th>\n",
       "      <th>return</th>\n",
       "    </tr>\n",
       "  </thead>\n",
       "  <tbody>\n",
       "    <tr>\n",
       "      <th>161</th>\n",
       "      <td>2015-08-21</td>\n",
       "      <td>-0.031981</td>\n",
       "    </tr>\n",
       "    <tr>\n",
       "      <th>162</th>\n",
       "      <td>2015-08-24</td>\n",
       "      <td>-0.039544</td>\n",
       "    </tr>\n",
       "    <tr>\n",
       "      <th>168</th>\n",
       "      <td>2015-09-01</td>\n",
       "      <td>-0.029710</td>\n",
       "    </tr>\n",
       "    <tr>\n",
       "      <th>186</th>\n",
       "      <td>2015-09-28</td>\n",
       "      <td>-0.025809</td>\n",
       "    </tr>\n",
       "    <tr>\n",
       "      <th>256</th>\n",
       "      <td>2016-01-07</td>\n",
       "      <td>-0.023882</td>\n",
       "    </tr>\n",
       "    <tr>\n",
       "      <th>...</th>\n",
       "      <td>...</td>\n",
       "      <td>...</td>\n",
       "    </tr>\n",
       "    <tr>\n",
       "      <th>1332</th>\n",
       "      <td>2020-04-17</td>\n",
       "      <td>0.026028</td>\n",
       "    </tr>\n",
       "    <tr>\n",
       "      <th>1340</th>\n",
       "      <td>2020-04-29</td>\n",
       "      <td>0.025814</td>\n",
       "    </tr>\n",
       "    <tr>\n",
       "      <th>1353</th>\n",
       "      <td>2020-05-18</td>\n",
       "      <td>0.030724</td>\n",
       "    </tr>\n",
       "    <tr>\n",
       "      <th>1366</th>\n",
       "      <td>2020-06-05</td>\n",
       "      <td>0.025427</td>\n",
       "    </tr>\n",
       "    <tr>\n",
       "      <th>1550</th>\n",
       "      <td>2021-03-01</td>\n",
       "      <td>0.022907</td>\n",
       "    </tr>\n",
       "  </tbody>\n",
       "</table>\n",
       "<p>73 rows × 2 columns</p>\n",
       "</div>"
      ],
      "text/plain": [
       "           date    return\n",
       "161  2015-08-21 -0.031981\n",
       "162  2015-08-24 -0.039544\n",
       "168  2015-09-01 -0.029710\n",
       "186  2015-09-28 -0.025809\n",
       "256  2016-01-07 -0.023882\n",
       "...         ...       ...\n",
       "1332 2020-04-17  0.026028\n",
       "1340 2020-04-29  0.025814\n",
       "1353 2020-05-18  0.030724\n",
       "1366 2020-06-05  0.025427\n",
       "1550 2021-03-01  0.022907\n",
       "\n",
       "[73 rows x 2 columns]"
      ]
     },
     "execution_count": 252,
     "metadata": {},
     "output_type": "execute_result"
    }
   ],
   "source": [
    "lower_anom_detrend = detrended_spx_returns[detrended_spx_returns['return'] <= lower_detrend[1]][['date', 'return']]\n",
    "upper_anom_detrend = detrended_spx_returns[detrended_spx_returns['return'] >= upper_detrend[1]][['date', 'return']]\n",
    "spx_anom_95_detrend = pd.concat([lower_anom_detrend, upper_anom_detrend])\n",
    "spx_anom_95_detrend"
   ]
  },
  {
   "cell_type": "code",
   "execution_count": 245,
   "id": "130cba66",
   "metadata": {},
   "outputs": [
    {
     "name": "stdout",
     "output_type": "stream",
     "text": [
      "0.0005224155031041337 [-0.02210629478931977, 0.023151125795528037]\n"
     ]
    }
   ],
   "source": [
    "# non-detrended returns - SEEMS TO BE MORE ACCURATE\n",
    "spx_returns_mu = spx_returns_date['Adj Close'].mean()\n",
    "spx_returns_dev = spx_returns_date['Adj Close'].std()\n",
    "\n",
    "lower = spx_returns_mu - 2*spx_returns_dev\n",
    "upper = spx_returns_mu + 2*spx_returns_dev\n",
    "print(spx_returns_mu, [lower, upper])"
   ]
  },
  {
   "cell_type": "code",
   "execution_count": 246,
   "id": "94de8dc9",
   "metadata": {},
   "outputs": [
    {
     "data": {
      "text/html": [
       "<div>\n",
       "<style scoped>\n",
       "    .dataframe tbody tr th:only-of-type {\n",
       "        vertical-align: middle;\n",
       "    }\n",
       "\n",
       "    .dataframe tbody tr th {\n",
       "        vertical-align: top;\n",
       "    }\n",
       "\n",
       "    .dataframe thead th {\n",
       "        text-align: right;\n",
       "    }\n",
       "</style>\n",
       "<table border=\"1\" class=\"dataframe\">\n",
       "  <thead>\n",
       "    <tr style=\"text-align: right;\">\n",
       "      <th></th>\n",
       "      <th>Date</th>\n",
       "      <th>Adj Close</th>\n",
       "    </tr>\n",
       "  </thead>\n",
       "  <tbody>\n",
       "    <tr>\n",
       "      <th>161</th>\n",
       "      <td>2015-08-21</td>\n",
       "      <td>-0.031851</td>\n",
       "    </tr>\n",
       "    <tr>\n",
       "      <th>162</th>\n",
       "      <td>2015-08-24</td>\n",
       "      <td>-0.039414</td>\n",
       "    </tr>\n",
       "    <tr>\n",
       "      <th>168</th>\n",
       "      <td>2015-09-01</td>\n",
       "      <td>-0.029576</td>\n",
       "    </tr>\n",
       "    <tr>\n",
       "      <th>186</th>\n",
       "      <td>2015-09-28</td>\n",
       "      <td>-0.025666</td>\n",
       "    </tr>\n",
       "    <tr>\n",
       "      <th>256</th>\n",
       "      <td>2016-01-07</td>\n",
       "      <td>-0.023700</td>\n",
       "    </tr>\n",
       "    <tr>\n",
       "      <th>...</th>\n",
       "      <td>...</td>\n",
       "      <td>...</td>\n",
       "    </tr>\n",
       "    <tr>\n",
       "      <th>1332</th>\n",
       "      <td>2020-04-17</td>\n",
       "      <td>0.026794</td>\n",
       "    </tr>\n",
       "    <tr>\n",
       "      <th>1340</th>\n",
       "      <td>2020-04-29</td>\n",
       "      <td>0.026584</td>\n",
       "    </tr>\n",
       "    <tr>\n",
       "      <th>1353</th>\n",
       "      <td>2020-05-18</td>\n",
       "      <td>0.031501</td>\n",
       "    </tr>\n",
       "    <tr>\n",
       "      <th>1366</th>\n",
       "      <td>2020-06-05</td>\n",
       "      <td>0.026212</td>\n",
       "    </tr>\n",
       "    <tr>\n",
       "      <th>1550</th>\n",
       "      <td>2021-03-01</td>\n",
       "      <td>0.023791</td>\n",
       "    </tr>\n",
       "  </tbody>\n",
       "</table>\n",
       "<p>72 rows × 2 columns</p>\n",
       "</div>"
      ],
      "text/plain": [
       "           Date  Adj Close\n",
       "161  2015-08-21  -0.031851\n",
       "162  2015-08-24  -0.039414\n",
       "168  2015-09-01  -0.029576\n",
       "186  2015-09-28  -0.025666\n",
       "256  2016-01-07  -0.023700\n",
       "...         ...        ...\n",
       "1332 2020-04-17   0.026794\n",
       "1340 2020-04-29   0.026584\n",
       "1353 2020-05-18   0.031501\n",
       "1366 2020-06-05   0.026212\n",
       "1550 2021-03-01   0.023791\n",
       "\n",
       "[72 rows x 2 columns]"
      ]
     },
     "execution_count": 246,
     "metadata": {},
     "output_type": "execute_result"
    }
   ],
   "source": [
    "lower_anom = spx_returns_date[spx_returns_date['Adj Close'] <= lower][['Date', 'Adj Close']]\n",
    "upper_anom = spx_returns_date[spx_returns_date['Adj Close'] >= upper][['Date', 'Adj Close']]\n",
    "spx_anom_95 = pd.concat([lower_anom, upper_anom])\n",
    "spx_anom_95\n"
   ]
  },
  {
   "cell_type": "code",
   "execution_count": 247,
   "id": "15b42398",
   "metadata": {},
   "outputs": [
    {
     "name": "stdout",
     "output_type": "stream",
     "text": [
      "   cond_conf_interval cond_n_days\n",
      "0          2015-08-21  2016-02-09\n",
      "1          2015-08-24  2016-02-10\n",
      "2          2015-09-01  2016-02-11\n",
      "3          2015-09-28  2016-02-12\n",
      "4          2016-01-07  2016-02-16\n",
      "..                ...         ...\n",
      "67         2020-04-17         NaT\n",
      "68         2020-04-29         NaT\n",
      "69         2020-05-18         NaT\n",
      "70         2020-06-05         NaT\n",
      "71         2021-03-01         NaT\n",
      "\n",
      "[72 rows x 2 columns]\n"
     ]
    }
   ],
   "source": [
    "df = pd.DataFrame()\n",
    "df['cond_conf_interval'] = spx_anom_95['Date'].reset_index(drop=True)\n",
    "df['cond_n_days'] = n_days_analysis_anom['date'].reset_index(drop=True)\n",
    "print(df)"
   ]
  },
  {
   "cell_type": "code",
   "execution_count": 250,
   "id": "94439f22",
   "metadata": {},
   "outputs": [
    {
     "data": {
      "text/plain": [
       "(array([], dtype=int64),)"
      ]
     },
     "execution_count": 250,
     "metadata": {},
     "output_type": "execute_result"
    }
   ],
   "source": [
    "np.where(df.cond_conf_interval == df.cond_n_days)"
   ]
  },
  {
   "cell_type": "code",
   "execution_count": 249,
   "id": "ee44f66a",
   "metadata": {},
   "outputs": [],
   "source": [
    "# two methods show different results.."
   ]
  },
  {
   "cell_type": "code",
   "execution_count": null,
   "id": "f6c228f9",
   "metadata": {},
   "outputs": [],
   "source": []
  },
  {
   "cell_type": "code",
   "execution_count": null,
   "id": "a818bc5b",
   "metadata": {},
   "outputs": [],
   "source": []
  }
 ],
 "metadata": {
  "kernelspec": {
   "display_name": "Python 3 (ipykernel)",
   "language": "python",
   "name": "python3"
  },
  "language_info": {
   "codemirror_mode": {
    "name": "ipython",
    "version": 3
   },
   "file_extension": ".py",
   "mimetype": "text/x-python",
   "name": "python",
   "nbconvert_exporter": "python",
   "pygments_lexer": "ipython3",
   "version": "3.9.12"
  }
 },
 "nbformat": 4,
 "nbformat_minor": 5
}
