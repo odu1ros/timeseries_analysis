{
 "cells": [
  {
   "cell_type": "code",
   "execution_count": 1,
   "id": "f5ee4dc9",
   "metadata": {},
   "outputs": [
    {
     "name": "stderr",
     "output_type": "stream",
     "text": [
      "C:\\Users\\xrosn\\anaconda3\\lib\\site-packages\\outdated\\utils.py:14: OutdatedPackageWarning: The package outdated is out of date. Your version is 0.2.1, the latest is 0.2.2.\n",
      "Set the environment variable OUTDATED_IGNORE=1 to disable these warnings.\n",
      "  return warn(\n"
     ]
    }
   ],
   "source": [
    "import pandas as pd\n",
    "from pandas_datareader.data import DataReader\n",
    "pd.set_option('display.max_rows', None)\n",
    "import numpy as np\n",
    "import pingouin as pg\n",
    "\n",
    "import yfinance as yf\n",
    "import matplotlib.pyplot as plt\n",
    "from matplotlib.pyplot import figure\n",
    "import scipy\n",
    "from scipy import signal\n",
    "import scipy.stats as st\n",
    "from statsmodels.tsa.seasonal import STL\n",
    "from statsmodels.stats.weightstats import ttest_ind\n",
    "from tqdm.notebook import tqdm\n",
    "from datetime import timedelta\n",
    "import math\n",
    "import warnings\n",
    "warnings.filterwarnings('ignore')"
   ]
  },
  {
   "cell_type": "markdown",
   "id": "eeb52134",
   "metadata": {},
   "source": [
    "# Loading data"
   ]
  },
  {
   "cell_type": "code",
   "execution_count": 2,
   "id": "94b1972d",
   "metadata": {},
   "outputs": [],
   "source": [
    "start_date = '2014-12-30'\n",
    "end_date = '2022-01-09'\n",
    "method = \"Adj Close\"\n",
    "stock_ex = ['^GSPC', 'IMOEX.ME']"
   ]
  },
  {
   "cell_type": "code",
   "execution_count": 3,
   "id": "ec771e9b",
   "metadata": {},
   "outputs": [],
   "source": [
    "def get_index_data(start_date, end_date, method=method, i=0):\n",
    "    spx_index = DataReader(stock_ex[i], 'yahoo', start_date, end_date)\n",
    "    spx_returns = spx_index[method].pct_change().dropna()\n",
    "    return spx_index, spx_returns"
   ]
  },
  {
   "cell_type": "code",
   "execution_count": 4,
   "id": "584394ff",
   "metadata": {},
   "outputs": [],
   "source": [
    "spx_index, spx_returns = get_index_data(start_date, end_date, i=1)"
   ]
  },
  {
   "cell_type": "code",
   "execution_count": 5,
   "id": "835b2010",
   "metadata": {},
   "outputs": [
    {
     "data": {
      "text/plain": [
       "\"\\nspx_index.to_csv('moex_index.csv')\\nspx_returns.to_csv('moex_returns.csv')\\n\""
      ]
     },
     "execution_count": 5,
     "metadata": {},
     "output_type": "execute_result"
    }
   ],
   "source": [
    "\"\"\"\n",
    "spx_index.to_csv('moex_index.csv')\n",
    "spx_returns.to_csv('moex_returns.csv')\n",
    "\"\"\""
   ]
  },
  {
   "cell_type": "code",
   "execution_count": 6,
   "id": "516ede3c",
   "metadata": {},
   "outputs": [
    {
     "data": {
      "text/plain": [
       "<AxesSubplot:xlabel='Date'>"
      ]
     },
     "execution_count": 6,
     "metadata": {},
     "output_type": "execute_result"
    },
    {
     "data": {
      "image/png": "[encoded data removed]",
      "text/plain": [
       "<Figure size 432x288 with 1 Axes>"
      ]
     },
     "metadata": {
      "needs_background": "light"
     },
     "output_type": "display_data"
    }
   ],
   "source": [
    "spx_index.plot()"
   ]
  },
  {
   "cell_type": "code",
   "execution_count": 7,
   "id": "4e63b090",
   "metadata": {},
   "outputs": [
    {
     "data": {
      "text/plain": [
       "Date\n",
       "2015-01-19   -0.009444\n",
       "2015-01-20   -0.003445\n",
       "2015-01-21    0.030045\n",
       "2015-01-22    0.029904\n",
       "2015-01-23    0.003144\n",
       "Name: Adj Close, dtype: float64"
      ]
     },
     "execution_count": 7,
     "metadata": {},
     "output_type": "execute_result"
    }
   ],
   "source": [
    "spx_returns.head()"
   ]
  },
  {
   "cell_type": "code",
   "execution_count": 8,
   "id": "f19888e6",
   "metadata": {},
   "outputs": [],
   "source": [
    "# dictionary = spx_returns.to_dict()"
   ]
  },
  {
   "cell_type": "code",
   "execution_count": 9,
   "id": "dc8448f7",
   "metadata": {},
   "outputs": [],
   "source": [
    "# dictionary"
   ]
  },
  {
   "cell_type": "code",
   "execution_count": 10,
   "id": "10d9726c",
   "metadata": {},
   "outputs": [],
   "source": [
    "# for i in dictionary:\n",
    "#     if (dictionary[i + 1] - i).days > 1:\n",
    "#         missed_day = i + timedelta(days = 1)\n",
    "#         missed_return = dictionary[i]\n",
    "#         dict2 = {missed_day: missed_return}\n",
    "#         dictionary.update(dict2)"
   ]
  },
  {
   "cell_type": "code",
   "execution_count": 11,
   "id": "c54a3cea",
   "metadata": {},
   "outputs": [],
   "source": [
    "# (spx_returns.index[1] - spx_returns.index[0]).days"
   ]
  },
  {
   "cell_type": "code",
   "execution_count": 12,
   "id": "23e08a94",
   "metadata": {},
   "outputs": [],
   "source": [
    "# for i in range(len(spx_returns)):\n",
    "#     if (spx_returns.index[i + 1] - spx_returns.index[i]).days > 1:\n",
    "#         missed_day = spx_returns.index[i] + timedelta(days = 1)\n",
    "#         missed_return = spx_returns[i]\n",
    "#         spx_returns\n",
    "#         spx_returns.index.append(missed_day)\n",
    "#         spx_returns[missed_day] = pd.Series(spx_returns[i])"
   ]
  },
  {
   "cell_type": "markdown",
   "id": "8ce0ba8d",
   "metadata": {},
   "source": [
    "## Normality test"
   ]
  },
  {
   "cell_type": "code",
   "execution_count": 13,
   "id": "1311d959",
   "metadata": {},
   "outputs": [
    {
     "data": {
      "text/plain": [
       "(array([ 2.,  0.,  1.,  0.,  0.,  0.,  0.,  0.,  0.,  0.,  0.,  0.,  0.,\n",
       "         0.,  0.,  0.,  0.,  0.,  0.,  0.,  0.,  0.,  0.,  0.,  0.,  0.,\n",
       "         0.,  0.,  0.,  0.,  0.,  0.,  0.,  0.,  0.,  0.,  0.,  0.,  0.,\n",
       "         0.,  0.,  2.,  0.,  0.,  0.,  0.,  0.,  0.,  1.,  0.,  1.,  0.,\n",
       "         0.,  0.,  0.,  0.,  2.,  0.,  1.,  2.,  3.,  1.,  2.,  0.,  0.,\n",
       "         1.,  1.,  1.,  0.,  0.,  2.,  2.,  2.,  1.,  0.,  3.,  1.,  4.,\n",
       "         6.,  5.,  9., 10.,  6., 14.,  8., 14., 22., 17., 13., 24., 23.,\n",
       "        20., 27., 32., 32., 52., 52., 47., 67., 62., 67., 43., 56., 60.,\n",
       "        62., 61., 54., 58., 65., 53., 49., 45., 56., 38., 49., 30., 42.,\n",
       "        30., 22., 26., 31., 21., 14., 14.,  9.,  6., 13.,  6., 10.,  7.,\n",
       "         3.,  6.,  5.,  2.,  8.,  0.,  1.,  3.,  0.,  1.,  1.,  2.,  1.,\n",
       "         1.,  0.,  0.,  1.,  1.,  2.,  0.,  0.,  0.,  1.,  1.,  0.,  0.,\n",
       "         0.,  0.,  0.,  0.,  0.,  0.,  0.,  0.,  0.,  0.,  0.,  0.,  0.,\n",
       "         0.,  0.,  0.,  0.,  0.,  0.,  0.,  0.,  0.,  0.,  0.,  0.,  0.,\n",
       "         0.,  0.,  0.,  0.,  0.,  0.,  0.,  0.,  0.,  0.,  0.,  1.,  0.,\n",
       "         0.,  0.,  0.,  0.,  1.]),\n",
       " array([-8.34418710e-02, -8.26387462e-02, -8.18356214e-02, -8.10324967e-02,\n",
       "        -8.02293719e-02, -7.94262471e-02, -7.86231224e-02, -7.78199976e-02,\n",
       "        -7.70168728e-02, -7.62137481e-02, -7.54106233e-02, -7.46074985e-02,\n",
       "        -7.38043738e-02, -7.30012490e-02, -7.21981242e-02, -7.13949995e-02,\n",
       "        -7.05918747e-02, -6.97887499e-02, -6.89856252e-02, -6.81825004e-02,\n",
       "        -6.73793756e-02, -6.65762509e-02, -6.57731261e-02, -6.49700013e-02,\n",
       "        -6.41668766e-02, -6.33637518e-02, -6.25606270e-02, -6.17575023e-02,\n",
       "        -6.09543775e-02, -6.01512527e-02, -5.93481280e-02, -5.85450032e-02,\n",
       "        -5.77418784e-02, -5.69387537e-02, -5.61356289e-02, -5.53325041e-02,\n",
       "        -5.45293794e-02, -5.37262546e-02, -5.29231298e-02, -5.21200051e-02,\n",
       "        -5.13168803e-02, -5.05137556e-02, -4.97106308e-02, -4.89075060e-02,\n",
       "        -4.81043813e-02, -4.73012565e-02, -4.64981317e-02, -4.56950070e-02,\n",
       "        -4.48918822e-02, -4.40887574e-02, -4.32856327e-02, -4.24825079e-02,\n",
       "        -4.16793831e-02, -4.08762584e-02, -4.00731336e-02, -3.92700088e-02,\n",
       "        -3.84668841e-02, -3.76637593e-02, -3.68606345e-02, -3.60575098e-02,\n",
       "        -3.52543850e-02, -3.44512602e-02, -3.36481355e-02, -3.28450107e-02,\n",
       "        -3.20418859e-02, -3.12387612e-02, -3.04356364e-02, -2.96325116e-02,\n",
       "        -2.88293869e-02, -2.80262621e-02, -2.72231373e-02, -2.64200126e-02,\n",
       "        -2.56168878e-02, -2.48137630e-02, -2.40106383e-02, -2.32075135e-02,\n",
       "        -2.24043887e-02, -2.16012640e-02, -2.07981392e-02, -1.99950144e-02,\n",
       "        -1.91918897e-02, -1.83887649e-02, -1.75856401e-02, -1.67825154e-02,\n",
       "        -1.59793906e-02, -1.51762658e-02, -1.43731411e-02, -1.35700163e-02,\n",
       "        -1.27668915e-02, -1.19637668e-02, -1.11606420e-02, -1.03575172e-02,\n",
       "        -9.55439248e-03, -8.75126772e-03, -7.94814295e-03, -7.14501818e-03,\n",
       "        -6.34189342e-03, -5.53876865e-03, -4.73564389e-03, -3.93251912e-03,\n",
       "        -3.12939435e-03, -2.32626959e-03, -1.52314482e-03, -7.20020056e-04,\n",
       "         8.31047101e-05,  8.86229476e-04,  1.68935424e-03,  2.49247901e-03,\n",
       "         3.29560377e-03,  4.09872854e-03,  4.90185331e-03,  5.70497807e-03,\n",
       "         6.50810284e-03,  7.31122760e-03,  8.11435237e-03,  8.91747714e-03,\n",
       "         9.72060190e-03,  1.05237267e-02,  1.13268514e-02,  1.21299762e-02,\n",
       "         1.29331010e-02,  1.37362257e-02,  1.45393505e-02,  1.53424753e-02,\n",
       "         1.61456000e-02,  1.69487248e-02,  1.77518496e-02,  1.85549743e-02,\n",
       "         1.93580991e-02,  2.01612239e-02,  2.09643486e-02,  2.17674734e-02,\n",
       "         2.25705982e-02,  2.33737229e-02,  2.41768477e-02,  2.49799725e-02,\n",
       "         2.57830972e-02,  2.65862220e-02,  2.73893468e-02,  2.81924715e-02,\n",
       "         2.89955963e-02,  2.97987211e-02,  3.06018458e-02,  3.14049706e-02,\n",
       "         3.22080954e-02,  3.30112201e-02,  3.38143449e-02,  3.46174696e-02,\n",
       "         3.54205944e-02,  3.62237192e-02,  3.70268439e-02,  3.78299687e-02,\n",
       "         3.86330935e-02,  3.94362182e-02,  4.02393430e-02,  4.10424678e-02,\n",
       "         4.18455925e-02,  4.26487173e-02,  4.34518421e-02,  4.42549668e-02,\n",
       "         4.50580916e-02,  4.58612164e-02,  4.66643411e-02,  4.74674659e-02,\n",
       "         4.82705907e-02,  4.90737154e-02,  4.98768402e-02,  5.06799650e-02,\n",
       "         5.14830897e-02,  5.22862145e-02,  5.30893393e-02,  5.38924640e-02,\n",
       "         5.46955888e-02,  5.54987136e-02,  5.63018383e-02,  5.71049631e-02,\n",
       "         5.79080879e-02,  5.87112126e-02,  5.95143374e-02,  6.03174622e-02,\n",
       "         6.11205869e-02,  6.19237117e-02,  6.27268365e-02,  6.35299612e-02,\n",
       "         6.43330860e-02,  6.51362108e-02,  6.59393355e-02,  6.67424603e-02,\n",
       "         6.75455851e-02,  6.83487098e-02,  6.91518346e-02,  6.99549594e-02,\n",
       "         7.07580841e-02,  7.15612089e-02,  7.23643337e-02,  7.31674584e-02,\n",
       "         7.39705832e-02,  7.47737080e-02,  7.55768327e-02,  7.63799575e-02,\n",
       "         7.71830823e-02]),\n",
       " <BarContainer object of 200 artists>)"
      ]
     },
     "execution_count": 13,
     "metadata": {},
     "output_type": "execute_result"
    },
    {
     "data": {
      "image/png": "[encoded data removed]",
      "text/plain": [
       "<Figure size 432x288 with 1 Axes>"
      ]
     },
     "metadata": {
      "needs_background": "light"
     },
     "output_type": "display_data"
    }
   ],
   "source": [
    "plt.hist(spx_returns, bins=200)"
   ]
  },
  {
   "cell_type": "code",
   "execution_count": 14,
   "id": "83626486",
   "metadata": {},
   "outputs": [
    {
     "name": "stdout",
     "output_type": "stream",
     "text": [
      "p = 3.16338e-81\n",
      "The null hypothesis cannot be rejected\n"
     ]
    }
   ],
   "source": [
    "rng = np.random.default_rng()\n",
    "k2, p = st.normaltest(spx_returns)\n",
    "alpha = 1e-3\n",
    "print(\"p = {:g}\".format(p))\n",
    "p = 0.05\n",
    "if p < alpha:  # null hypothesis: x comes from a normal distribution\n",
    "    print(\"The null hypothesis can be rejected\")\n",
    "else:\n",
    "    print(\"The null hypothesis cannot be rejected\")"
   ]
  },
  {
   "cell_type": "markdown",
   "id": "4ed981ab",
   "metadata": {},
   "source": [
    "# Detection algorithms"
   ]
  },
  {
   "cell_type": "markdown",
   "id": "feb5e571",
   "metadata": {},
   "source": [
    "## Confidence intervals"
   ]
  },
  {
   "cell_type": "code",
   "execution_count": 15,
   "id": "eab740bf",
   "metadata": {},
   "outputs": [],
   "source": [
    "def mean_comparison_confint(data, n=10, alpha=0.9):\n",
    "    \"\"\" Function compares value of return at exact date with mean of either period of n days before this date\n",
    "    or n days before and n days after. If by t-test it is significantly different, the date is considered as change point. \n",
    "    Also returns p-value, arguments are n days before the date and n days after.\n",
    "    \"\"\"\n",
    "    cols = ['p-value', 'conf_2n_lower', 'conf_2n_upper', 'conf_nprev_lower', 'conf_nprev_upper']\n",
    "    df = pd.DataFrame(spx_returns)\n",
    "    for new_column in cols:\n",
    "        df[new_column] = np.nan\n",
    "    \n",
    "    for i in range(n, len(df)):\n",
    "        n_prev = spx_returns[i - n:i - 1]\n",
    "        n_post = spx_returns[i:i + (n - 1)]\n",
    "        n_concat = pd.concat([n_prev, n_post])\n",
    "        \n",
    "        # check whether the date statistically differs from the 2n interval mean\n",
    "        conf_2n = st.t.interval(alpha=alpha, df=len(n_concat)-1, loc=np.mean(n_concat), scale=np.std(n_concat))\n",
    "        \n",
    "        # check whether the date statistically differs from n previous days mean\n",
    "        conf_prev = st.t.interval(alpha=alpha, df=len(n_prev)-1, loc=np.mean(n_prev), scale=np.std(n_prev))\n",
    "        \n",
    "        # get p-values\n",
    "        results = ttest_ind(n_prev, n_post)\n",
    "        \n",
    "        df.iloc[i, list(df.columns).index('p-value')] = results[1].item(0)\n",
    "        df.iloc[i, list(df.columns).index('conf_nprev_lower')] = conf_prev[0]\n",
    "        df.iloc[i, list(df.columns).index('conf_nprev_upper')] = conf_prev[1]\n",
    "        df.iloc[i, list(df.columns).index('conf_2n_lower')] = conf_2n[0]\n",
    "        df.iloc[i, list(df.columns).index('conf_2n_upper')] = conf_2n[1]\n",
    "    \n",
    "    df = df[n:]\n",
    "    \n",
    "    # dataframe with info about confidence intervals\n",
    "    df_conf_ints = df.drop('p-value', axis=1)\n",
    "    \n",
    "    # dataframe with p-values\n",
    "    filter_list = ['conf_nprev', 'conf_2n']\n",
    "    df_p_value = df.copy()\n",
    "    for item in filter_list:\n",
    "        df_p_value = df_p_value.drop(df.filter(regex=item).columns, axis=1)\n",
    "        \n",
    "    return df, df_conf_ints, df_p_value"
   ]
  },
  {
   "cell_type": "code",
   "execution_count": 16,
   "id": "2d964716",
   "metadata": {},
   "outputs": [],
   "source": [
    "statistical_info, confidence_intervals_for_mean, p_values = mean_comparison_confint(data=spx_returns)"
   ]
  },
  {
   "cell_type": "code",
   "execution_count": 17,
   "id": "061b5bd0",
   "metadata": {},
   "outputs": [
    {
     "data": {
      "text/html": [
       "<div>\n",
       "<style scoped>\n",
       "    .dataframe tbody tr th:only-of-type {\n",
       "        vertical-align: middle;\n",
       "    }\n",
       "\n",
       "    .dataframe tbody tr th {\n",
       "        vertical-align: top;\n",
       "    }\n",
       "\n",
       "    .dataframe thead th {\n",
       "        text-align: right;\n",
       "    }\n",
       "</style>\n",
       "<table border=\"1\" class=\"dataframe\">\n",
       "  <thead>\n",
       "    <tr style=\"text-align: right;\">\n",
       "      <th></th>\n",
       "      <th>Adj Close</th>\n",
       "      <th>p-value</th>\n",
       "      <th>conf_2n_lower</th>\n",
       "      <th>conf_2n_upper</th>\n",
       "      <th>conf_nprev_lower</th>\n",
       "      <th>conf_nprev_upper</th>\n",
       "    </tr>\n",
       "    <tr>\n",
       "      <th>Date</th>\n",
       "      <th></th>\n",
       "      <th></th>\n",
       "      <th></th>\n",
       "      <th></th>\n",
       "      <th></th>\n",
       "      <th></th>\n",
       "    </tr>\n",
       "  </thead>\n",
       "  <tbody>\n",
       "    <tr>\n",
       "      <th>2015-02-02</th>\n",
       "      <td>-0.013583</td>\n",
       "      <td>0.425119</td>\n",
       "      <td>-0.022195</td>\n",
       "      <td>0.035828</td>\n",
       "      <td>-0.029016</td>\n",
       "      <td>0.035963</td>\n",
       "    </tr>\n",
       "    <tr>\n",
       "      <th>2015-02-03</th>\n",
       "      <td>0.017873</td>\n",
       "      <td>0.257124</td>\n",
       "      <td>-0.017640</td>\n",
       "      <td>0.036557</td>\n",
       "      <td>-0.026292</td>\n",
       "      <td>0.036428</td>\n",
       "    </tr>\n",
       "    <tr>\n",
       "      <th>2015-02-04</th>\n",
       "      <td>0.001003</td>\n",
       "      <td>0.518847</td>\n",
       "      <td>-0.023435</td>\n",
       "      <td>0.036967</td>\n",
       "      <td>-0.028996</td>\n",
       "      <td>0.036879</td>\n",
       "    </tr>\n",
       "    <tr>\n",
       "      <th>2015-02-05</th>\n",
       "      <td>0.024178</td>\n",
       "      <td>0.443192</td>\n",
       "      <td>-0.023366</td>\n",
       "      <td>0.035016</td>\n",
       "      <td>-0.027266</td>\n",
       "      <td>0.032444</td>\n",
       "    </tr>\n",
       "    <tr>\n",
       "      <th>2015-02-06</th>\n",
       "      <td>0.035016</td>\n",
       "      <td>0.287603</td>\n",
       "      <td>-0.022808</td>\n",
       "      <td>0.029543</td>\n",
       "      <td>-0.024496</td>\n",
       "      <td>0.023251</td>\n",
       "    </tr>\n",
       "  </tbody>\n",
       "</table>\n",
       "</div>"
      ],
      "text/plain": [
       "            Adj Close   p-value  conf_2n_lower  conf_2n_upper  \\\n",
       "Date                                                            \n",
       "2015-02-02  -0.013583  0.425119      -0.022195       0.035828   \n",
       "2015-02-03   0.017873  0.257124      -0.017640       0.036557   \n",
       "2015-02-04   0.001003  0.518847      -0.023435       0.036967   \n",
       "2015-02-05   0.024178  0.443192      -0.023366       0.035016   \n",
       "2015-02-06   0.035016  0.287603      -0.022808       0.029543   \n",
       "\n",
       "            conf_nprev_lower  conf_nprev_upper  \n",
       "Date                                            \n",
       "2015-02-02         -0.029016          0.035963  \n",
       "2015-02-03         -0.026292          0.036428  \n",
       "2015-02-04         -0.028996          0.036879  \n",
       "2015-02-05         -0.027266          0.032444  \n",
       "2015-02-06         -0.024496          0.023251  "
      ]
     },
     "execution_count": 17,
     "metadata": {},
     "output_type": "execute_result"
    }
   ],
   "source": [
    "statistical_info.head()"
   ]
  },
  {
   "cell_type": "code",
   "execution_count": 18,
   "id": "72aafb9e",
   "metadata": {},
   "outputs": [],
   "source": [
    "def confidence_within_2n_days(data, n=10):\n",
    "    \"\"\" Working with conf_2n values. If the return value is less than a lower boundary or \n",
    "    greater than a higher boundary, it is an anomaly.\n",
    "    \"\"\"\n",
    "    analysis_conf_2n = pd.DataFrame(columns=['Date'])\n",
    "    data = data.reset_index(drop=False)\n",
    "    \n",
    "    # setting variables for column indeces\n",
    "    date_col_index = list(data.columns).index('Date')\n",
    "    return_col_index = 1\n",
    "    lower_bound_col_index = list(data.columns).index('conf_2n_lower')\n",
    "    upper_bound_col_index = list(data.columns).index('conf_2n_upper')\n",
    "    \n",
    "    # comparing actual values with the boundaries\n",
    "    for i in range(len(data)):\n",
    "        if data.iloc[i, return_col_index] <= data.iloc[i, lower_bound_col_index]:\n",
    "            new_row = data.iloc[i, date_col_index]\n",
    "            analysis_conf_2n.loc[i] = new_row\n",
    "        elif data.iloc[i, return_col_index] >= data.iloc[i, upper_bound_col_index]:\n",
    "            new_row = data.iloc[i, date_col_index]\n",
    "            analysis_conf_2n.loc[i] = new_row \n",
    "        else:\n",
    "            pass\n",
    "    return analysis_conf_2n"
   ]
  },
  {
   "cell_type": "code",
   "execution_count": 19,
   "id": "05cd0a8f",
   "metadata": {},
   "outputs": [
    {
     "name": "stdout",
     "output_type": "stream",
     "text": [
      "Number of anomalies detected: Date    136\n",
      "dtype: int64\n"
     ]
    }
   ],
   "source": [
    "print(f\"Number of anomalies detected: {confidence_within_2n_days(statistical_info).count()}\")\n",
    "anomalies_2n = confidence_within_2n_days(statistical_info)\n",
    "# anomalies_2n"
   ]
  },
  {
   "cell_type": "code",
   "execution_count": 20,
   "id": "e1931ffa",
   "metadata": {},
   "outputs": [],
   "source": [
    "def confidence_after_n(data, n=10):\n",
    "    \"\"\" Working with conf_after_n values. If the return value is less than a lower boundary or \n",
    "    greater than a higher boundary, it is an anomaly.\n",
    "    \"\"\"\n",
    "    analysis_conf_after_n = pd.DataFrame(columns=['Date'])\n",
    "    data = data.reset_index(drop=False)\n",
    "    \n",
    "    # setting variables for column indeces\n",
    "    date_col_index = list(data.columns).index('Date')\n",
    "    return_col_index = 1\n",
    "    lower_bound_col_index = list(data.columns).index('conf_nprev_lower')\n",
    "    upper_bound_col_index = list(data.columns).index('conf_nprev_upper')\n",
    "    \n",
    "    # comparing actual values with the boundaries\n",
    "    for i in range(len(data)):\n",
    "        if data.iloc[i, return_col_index] <= data.iloc[i, lower_bound_col_index]:\n",
    "            new_row = data.iloc[i, date_col_index]\n",
    "            analysis_conf_after_n.loc[i] = new_row\n",
    "        elif data.iloc[i, return_col_index] >= data.iloc[i, upper_bound_col_index]:\n",
    "            new_row = data.iloc[i, date_col_index]\n",
    "            analysis_conf_after_n.loc[i] = new_row    \n",
    "    \n",
    "    return analysis_conf_after_n"
   ]
  },
  {
   "cell_type": "code",
   "execution_count": 21,
   "id": "a4d135a7",
   "metadata": {},
   "outputs": [
    {
     "name": "stdout",
     "output_type": "stream",
     "text": [
      "Number of anomalies detected: Date    233\n",
      "dtype: int64\n"
     ]
    }
   ],
   "source": [
    "anomalies_after_n = confidence_after_n(statistical_info)\n",
    "print(f\"Number of anomalies detected: {anomalies_after_n.count()}\")\n",
    "# anomalies_after_n"
   ]
  },
  {
   "cell_type": "markdown",
   "id": "9e68a374",
   "metadata": {},
   "source": [
    "## Confidence interval dates with p_values < 0.1"
   ]
  },
  {
   "cell_type": "code",
   "execution_count": 22,
   "id": "fabc4dcc",
   "metadata": {},
   "outputs": [],
   "source": [
    "# handwritten intersection algorithm\n",
    "def intersection(lst1, lst2):\n",
    "    lst3 = [value for value in lst1 if value in lst2]\n",
    "    return lst3"
   ]
  },
  {
   "cell_type": "code",
   "execution_count": 23,
   "id": "61bcf620",
   "metadata": {},
   "outputs": [],
   "source": [
    "def compare_means(data, data_anomalies, p_val=0.1, n=10):\n",
    "    \"\"\" Evaluate whether two intervals means significantly differ. Looking at p-value column. If actual value is lower\n",
    "    than established one, difference between two intervals is significant.\n",
    "    \n",
    "    Making dates succeeded in p-value test a mask. Masking results from analysis_conf_2n because those \n",
    "    cannot be always accurate (the function may return few days consiquently)\n",
    "    \"\"\"\n",
    "    data = data.reset_index(drop=False)\n",
    "    mean_anom = data[data['p-value'] <= p_val]\n",
    "    \n",
    "#     set_mean_anom, set_conf_2n = set(mean_anom['Date']), set(data_anomalies['Date'])\n",
    "#     change_point = pd.DataFrame(list(set_mean_anom.intersection(set_conf_2n)), columns=[str(f\"{n} days CP\")])\n",
    "    change_point = pd.DataFrame(intersection(list(mean_anom['Date']), list(data_anomalies['Date'])), columns=['Date'])\n",
    "    \n",
    "    printing = f\"number of dates with significant influence over next {n} days: {len(change_point)}\"\n",
    "    return mean_anom, printing, change_point"
   ]
  },
  {
   "cell_type": "code",
   "execution_count": 24,
   "id": "e9b786c8",
   "metadata": {},
   "outputs": [
    {
     "name": "stdout",
     "output_type": "stream",
     "text": [
      "number of dates with significant influence over next 10 days: 13\n"
     ]
    },
    {
     "data": {
      "text/html": [
       "<div>\n",
       "<style scoped>\n",
       "    .dataframe tbody tr th:only-of-type {\n",
       "        vertical-align: middle;\n",
       "    }\n",
       "\n",
       "    .dataframe tbody tr th {\n",
       "        vertical-align: top;\n",
       "    }\n",
       "\n",
       "    .dataframe thead th {\n",
       "        text-align: right;\n",
       "    }\n",
       "</style>\n",
       "<table border=\"1\" class=\"dataframe\">\n",
       "  <thead>\n",
       "    <tr style=\"text-align: right;\">\n",
       "      <th></th>\n",
       "      <th>Date</th>\n",
       "    </tr>\n",
       "  </thead>\n",
       "  <tbody>\n",
       "    <tr>\n",
       "      <th>0</th>\n",
       "      <td>2015-10-05</td>\n",
       "    </tr>\n",
       "    <tr>\n",
       "      <th>1</th>\n",
       "      <td>2015-11-24</td>\n",
       "    </tr>\n",
       "    <tr>\n",
       "      <th>2</th>\n",
       "      <td>2016-09-09</td>\n",
       "    </tr>\n",
       "    <tr>\n",
       "      <th>3</th>\n",
       "      <td>2017-04-24</td>\n",
       "    </tr>\n",
       "    <tr>\n",
       "      <th>4</th>\n",
       "      <td>2017-06-19</td>\n",
       "    </tr>\n",
       "    <tr>\n",
       "      <th>5</th>\n",
       "      <td>2018-01-03</td>\n",
       "    </tr>\n",
       "    <tr>\n",
       "      <th>6</th>\n",
       "      <td>2018-01-04</td>\n",
       "    </tr>\n",
       "    <tr>\n",
       "      <th>7</th>\n",
       "      <td>2018-02-28</td>\n",
       "    </tr>\n",
       "    <tr>\n",
       "      <th>8</th>\n",
       "      <td>2018-12-28</td>\n",
       "    </tr>\n",
       "    <tr>\n",
       "      <th>9</th>\n",
       "      <td>2019-05-14</td>\n",
       "    </tr>\n",
       "    <tr>\n",
       "      <th>10</th>\n",
       "      <td>2020-03-19</td>\n",
       "    </tr>\n",
       "    <tr>\n",
       "      <th>11</th>\n",
       "      <td>2021-02-02</td>\n",
       "    </tr>\n",
       "    <tr>\n",
       "      <th>12</th>\n",
       "      <td>2021-12-16</td>\n",
       "    </tr>\n",
       "  </tbody>\n",
       "</table>\n",
       "</div>"
      ],
      "text/plain": [
       "         Date\n",
       "0  2015-10-05\n",
       "1  2015-11-24\n",
       "2  2016-09-09\n",
       "3  2017-04-24\n",
       "4  2017-06-19\n",
       "5  2018-01-03\n",
       "6  2018-01-04\n",
       "7  2018-02-28\n",
       "8  2018-12-28\n",
       "9  2019-05-14\n",
       "10 2020-03-19\n",
       "11 2021-02-02\n",
       "12 2021-12-16"
      ]
     },
     "execution_count": 24,
     "metadata": {},
     "output_type": "execute_result"
    }
   ],
   "source": [
    "# algorithm compare_means for confidence_within_2n_days\n",
    "\n",
    "mean_anom, printing, change_point = compare_means(data=statistical_info, data_anomalies=anomalies_2n)\n",
    "print(printing)\n",
    "change_point"
   ]
  },
  {
   "cell_type": "code",
   "execution_count": 25,
   "id": "43955e3c",
   "metadata": {},
   "outputs": [
    {
     "name": "stdout",
     "output_type": "stream",
     "text": [
      "number of dates with significant influence over next 10 days: 47\n"
     ]
    }
   ],
   "source": [
    "# algorithm compare_means for confidence_after_n\n",
    "\n",
    "mean_anom, printing, change_point = compare_means(data=statistical_info, data_anomalies=anomalies_after_n)\n",
    "print(printing)\n",
    "# change_point"
   ]
  },
  {
   "cell_type": "code",
   "execution_count": 26,
   "id": "c4e0f8db",
   "metadata": {},
   "outputs": [
    {
     "name": "stdout",
     "output_type": "stream",
     "text": [
      "number of anomalies_2n: 136, number of anomalies_after_n: 233\n",
      "intersected dates: 125\n"
     ]
    }
   ],
   "source": [
    "print(f\"number of anomalies_2n: {len(anomalies_2n['Date'])}, number of anomalies_after_n: {len(anomalies_after_n['Date'])}\")\n",
    "print(f\"intersected dates: {pd.DataFrame(intersection(list(anomalies_2n['Date']), list(anomalies_after_n['Date']))).iloc[:,0].count()}\")"
   ]
  },
  {
   "cell_type": "code",
   "execution_count": 27,
   "id": "eb0e73cb",
   "metadata": {},
   "outputs": [
    {
     "data": {
      "text/plain": [
       "Date\n",
       "2014-12-30    0.0\n",
       "2014-12-31    0.0\n",
       "2015-01-01    0.0\n",
       "2015-01-02    0.0\n",
       "2015-01-03    0.0\n",
       "Name: Adj Close, dtype: float64"
      ]
     },
     "execution_count": 27,
     "metadata": {},
     "output_type": "execute_result"
    }
   ],
   "source": [
    "# filling dates skipped due to holidays \n",
    "idx = pd.date_range(start_date, end_date)\n",
    "spx_restored_dates = spx_returns.reindex(list(idx), fill_value=0)\n",
    "spx_restored_dates.head()"
   ]
  },
  {
   "cell_type": "code",
   "execution_count": 28,
   "id": "d8c961d8",
   "metadata": {
    "scrolled": true
   },
   "outputs": [
    {
     "data": {
      "text/plain": [
       "'\\n# running algorithms through cycle\\n\\nN = [5, 10, 15, 20]\\nsignif_influence = pd.DataFrame(0, index=np.arange(len(spx_returns)), columns=[\\'0\\'])\\nfor n in tqdm(N):\\n    # setting variables\\n    statistical_info, confidence_intervals_for_mean, p_values = mean_comparison_confint(data=spx_returns, n=n)\\n    anomalies_2n = confidence_within_2n_days(data=statistical_info, n=n)\\n    anomalies_after_n = confidence_after_n(data=statistical_info, n=n)\\n    mean_anom, printing, change_point = compare_means(data=statistical_info, data_anomalies=anomalies_2n, n=n)\\n    \\n    # dropping index\\n#     df_signif_influence = signif_influence.reset_index(drop=True)\\n#     df_anomalies_2n = anomalies_2n[\\'Date\\'].rename(f\"within_2_{n}_days\").reset_index(drop=True)\\n#     df_mean_anom = mean_anom[\\'Date\\'].rename(f\"signif_2_{n}_days\").reset_index(drop=True)\\n#     df_anomalies_after_n = anomalies_after_n[\\'Date\\'].rename(f\"after_{n}days\").reset_index(drop=True)\\n    \\n    df_signif_influence = signif_influence.reindex(list(range(0, len(spx_returns))),fill_value=0)\\n    skipped_rows = pd.DataFrame(0, index=np.arange(n), columns=[\\'0\\'])\\n    df_anomalies_2n = anomalies_2n[\\'Date\\'].rename(f\"within_2_{n}_days\")\\n    print(df_anomalies_2n)\\n    df_anomalies_2n = df_anomalies_2n.reindex(list(range(0, len(spx_returns))),fill_value=0)\\n    print(df_anomalies_2n)\\n    df_anomalies_2n = pd.concat([skipped_rows[\\'0\\'].rename(f\"within_2_{n}_days\"), df_anomalies_2n], ignore_index=True)\\n#     print(df_anomalies_2n)\\n    df_mean_anom = mean_anom[\\'Date\\'].rename(f\"signif_2_{n}_days\").reindex(list(range(0, len(spx_returns))),fill_value=0)\\n    df_mean_anom = pd.concat([skipped_rows[\\'0\\'].rename(f\"signif_2_{n}_days\"), df_mean_anom], ignore_index=True)\\n    df_anomalies_after_n = anomalies_after_n[\\'Date\\'].rename(f\"after_{n}days\").reindex(list(range(0, len(spx_returns))),fill_value=0)\\n    df_anomalies_after_n = pd.concat([skipped_rows[\\'0\\'].rename(f\"after_{n}days\"), df_anomalies_after_n], ignore_index=True)\\n    \\n    signif_influence = pd.concat([df_signif_influence, df_anomalies_2n, df_mean_anom, df_anomalies_after_n], axis=1, ignore_index=False)\\n    print(printing, change_point)\\n'"
      ]
     },
     "execution_count": 28,
     "metadata": {},
     "output_type": "execute_result"
    }
   ],
   "source": [
    "\"\"\"\n",
    "# running algorithms through cycle\n",
    "\n",
    "N = [5, 10, 15, 20]\n",
    "signif_influence = pd.DataFrame(0, index=np.arange(len(spx_returns)), columns=['0'])\n",
    "for n in tqdm(N):\n",
    "    # setting variables\n",
    "    statistical_info, confidence_intervals_for_mean, p_values = mean_comparison_confint(data=spx_returns, n=n)\n",
    "    anomalies_2n = confidence_within_2n_days(data=statistical_info, n=n)\n",
    "    anomalies_after_n = confidence_after_n(data=statistical_info, n=n)\n",
    "    mean_anom, printing, change_point = compare_means(data=statistical_info, data_anomalies=anomalies_2n, n=n)\n",
    "    \n",
    "    # dropping index\n",
    "#     df_signif_influence = signif_influence.reset_index(drop=True)\n",
    "#     df_anomalies_2n = anomalies_2n['Date'].rename(f\"within_2_{n}_days\").reset_index(drop=True)\n",
    "#     df_mean_anom = mean_anom['Date'].rename(f\"signif_2_{n}_days\").reset_index(drop=True)\n",
    "#     df_anomalies_after_n = anomalies_after_n['Date'].rename(f\"after_{n}days\").reset_index(drop=True)\n",
    "    \n",
    "    df_signif_influence = signif_influence.reindex(list(range(0, len(spx_returns))),fill_value=0)\n",
    "    skipped_rows = pd.DataFrame(0, index=np.arange(n), columns=['0'])\n",
    "    df_anomalies_2n = anomalies_2n['Date'].rename(f\"within_2_{n}_days\")\n",
    "    print(df_anomalies_2n)\n",
    "    df_anomalies_2n = df_anomalies_2n.reindex(list(range(0, len(spx_returns))),fill_value=0)\n",
    "    print(df_anomalies_2n)\n",
    "    df_anomalies_2n = pd.concat([skipped_rows['0'].rename(f\"within_2_{n}_days\"), df_anomalies_2n], ignore_index=True)\n",
    "#     print(df_anomalies_2n)\n",
    "    df_mean_anom = mean_anom['Date'].rename(f\"signif_2_{n}_days\").reindex(list(range(0, len(spx_returns))),fill_value=0)\n",
    "    df_mean_anom = pd.concat([skipped_rows['0'].rename(f\"signif_2_{n}_days\"), df_mean_anom], ignore_index=True)\n",
    "    df_anomalies_after_n = anomalies_after_n['Date'].rename(f\"after_{n}days\").reindex(list(range(0, len(spx_returns))),fill_value=0)\n",
    "    df_anomalies_after_n = pd.concat([skipped_rows['0'].rename(f\"after_{n}days\"), df_anomalies_after_n], ignore_index=True)\n",
    "    \n",
    "    signif_influence = pd.concat([df_signif_influence, df_anomalies_2n, df_mean_anom, df_anomalies_after_n], axis=1, ignore_index=False)\n",
    "    print(printing, change_point)\n",
    "\"\"\""
   ]
  },
  {
   "cell_type": "code",
   "execution_count": 29,
   "id": "f15fd83a",
   "metadata": {},
   "outputs": [],
   "source": [
    "N = [5, 10, 15, 20]\n",
    "signif_influence = pd.DataFrame(0, index=spx_returns.index, columns=['0'])\n",
    "target = pd.DataFrame(0, index=spx_restored_dates.index, columns=['0'])\n",
    "change_points_mean = pd.DataFrame(0, index=spx_restored_dates.index, columns=['0'])"
   ]
  },
  {
   "cell_type": "code",
   "execution_count": 30,
   "id": "fe247e5e",
   "metadata": {},
   "outputs": [
    {
     "data": {
      "application/vnd.jupyter.widget-view+json": {
       "model_id": "dc4230b9053e42c781da6355a2e1f525",
       "version_major": 2,
       "version_minor": 0
      },
      "text/plain": [
       "  0%|          | 0/4 [00:00<?, ?it/s]"
      ]
     },
     "metadata": {},
     "output_type": "display_data"
    },
    {
     "name": "stdout",
     "output_type": "stream",
     "text": [
      "number of dates with significant influence over next 5 days: 7         Date\n",
      "0 2015-11-17\n",
      "1 2016-05-31\n",
      "2 2017-04-10\n",
      "3 2018-02-28\n",
      "4 2019-05-14\n",
      "5 2021-03-17\n",
      "6 2021-05-05\n",
      "number of dates with significant influence over next 10 days: 13          Date\n",
      "0  2015-10-05\n",
      "1  2015-11-24\n",
      "2  2016-09-09\n",
      "3  2017-04-24\n",
      "4  2017-06-19\n",
      "5  2018-01-03\n",
      "6  2018-01-04\n",
      "7  2018-02-28\n",
      "8  2018-12-28\n",
      "9  2019-05-14\n",
      "10 2020-03-19\n",
      "11 2021-02-02\n",
      "12 2021-12-16\n",
      "number of dates with significant influence over next 15 days: 21          Date\n",
      "0  2015-03-30\n",
      "1  2015-06-02\n",
      "2  2015-10-05\n",
      "3  2015-11-24\n",
      "4  2016-11-09\n",
      "5  2017-06-19\n",
      "6  2018-01-03\n",
      "7  2018-01-04\n",
      "8  2018-10-03\n",
      "9  2018-12-28\n",
      "10 2019-01-04\n",
      "11 2019-05-14\n",
      "12 2019-09-16\n",
      "13 2019-11-08\n",
      "14 2020-03-19\n",
      "15 2020-03-24\n",
      "16 2020-08-20\n",
      "17 2020-10-28\n",
      "18 2020-11-05\n",
      "19 2021-02-02\n",
      "20 2021-07-28\n",
      "number of dates with significant influence over next 20 days: 22          Date\n",
      "0  2015-03-30\n",
      "1  2015-11-24\n",
      "2  2016-09-09\n",
      "3  2016-11-09\n",
      "4  2016-11-10\n",
      "5  2017-06-19\n",
      "6  2017-12-11\n",
      "7  2018-05-23\n",
      "8  2018-06-20\n",
      "9  2018-10-03\n",
      "10 2019-02-07\n",
      "11 2019-04-11\n",
      "12 2019-05-14\n",
      "13 2019-08-06\n",
      "14 2019-09-16\n",
      "15 2019-11-08\n",
      "16 2020-03-19\n",
      "17 2020-03-24\n",
      "18 2020-08-12\n",
      "19 2020-08-20\n",
      "20 2020-10-28\n",
      "21 2020-11-05\n"
     ]
    }
   ],
   "source": [
    "# running algorithms through cycle\n",
    "\n",
    "for n in tqdm(N):\n",
    "    # setting variables\n",
    "    statistical_info, confidence_intervals_for_mean, p_values = mean_comparison_confint(data=spx_returns, n=n)\n",
    "    anomalies_2n = confidence_within_2n_days(data=statistical_info, n=n)\n",
    "    anomalies_after_n = confidence_after_n(data=statistical_info, n=n)\n",
    "    mean_anom, printing, change_point = compare_means(data=statistical_info, data_anomalies=anomalies_2n, n=n)\n",
    "    \n",
    "    # dropping index\n",
    "#     df_signif_influence = signif_influence.reset_index(drop=True)\n",
    "#     df_anomalies_2n = anomalies_2n['Date'].rename(f\"within_2_{n}_days\").reset_index(drop=True)\n",
    "#     df_mean_anom = mean_anom['Date'].rename(f\"signif_2_{n}_days\").reset_index(drop=True)\n",
    "#     df_anomalies_after_n = anomalies_after_n['Date'].rename(f\"after_{n}days\").reset_index(drop=True)\n",
    "    \n",
    "    df_signif_influence = signif_influence.reindex(list(range(0, len(spx_returns))),fill_value=0)\n",
    "    \n",
    "#     skipped_rows = pd.DataFrame(0, index=np.arange(n), columns=['0'])\n",
    "    \n",
    "    df_anomalies_2n = pd.DataFrame(anomalies_2n['Date'])\n",
    "    df_anomalies_2n[f\"within_2_{n}_days\"] = 1\n",
    "#     print(df_anomalies_2n)\n",
    "    df_index_anomalies_2n = df_anomalies_2n.set_index('Date')\n",
    "#     print(df_index_anomalies_2n)\n",
    "    df_index_anomalies_2n = df_index_anomalies_2n.reindex(idx, fill_value=0)\n",
    "#     target[f\"within_2_{n}_days\"] = df_index_anomalies_2n\n",
    "#     print(target)\n",
    "#     print(df_index_anomalies_2n)\n",
    "#     print(df_index)\n",
    "#     df_anomalies_2n = df_anomalies_2n.reindex(list(range(0, len(spx_returns))),fill_value=0)\n",
    "#     print(df_anomalies_2n)\n",
    "#     df_anomalies_2n = pd.concat([skipped_rows['0'].rename(f\"within_2_{n}_days\"), df_anomalies_2n], ignore_index=True)\n",
    "#     print(df_anomalies_2n)\n",
    "    \n",
    "    df_mean_anom = pd.DataFrame(mean_anom['Date'])\n",
    "    df_mean_anom[f\"signif_2_{n}_days\"] = 1\n",
    "    df_index_mean_anom = df_mean_anom.set_index('Date')\n",
    "    df_index_mean_anom = df_index_mean_anom.reindex(idx, fill_value=0)\n",
    "#     target[f\"signif_2_{n}_days\"] = df_index_mean_anom\n",
    "#     df_mean_anom = mean_anom['Date'].rename(f\"signif_2_{n}_days\")\n",
    "#     df_index_mean_anom = df_mean_anom.reindex(df_anomalies_2n, fill_value=1)\n",
    "#     df_index_mean_anom = df_index_mean_anom.reindex(idx, fill_value=0)\n",
    "# #     df_mean_anom = df_mean_anom.reindex(list(range(0, len(spx_returns))),fill_value=0)\n",
    "# #     df_mean_anom = pd.concat([skipped_rows['0'].rename(f\"signif_2_{n}_days\"), df_mean_anom], ignore_index=True)\n",
    "    \n",
    "    df_anomalies_after_n = pd.DataFrame(anomalies_after_n['Date'])\n",
    "    df_anomalies_after_n[f\"after_{n}days\"] = 1\n",
    "    df_index_anomalies_after_n = df_anomalies_after_n.set_index('Date')\n",
    "    df_index_anomalies_after_n = df_index_anomalies_after_n.reindex(idx, fill_value=0)\n",
    "#     target[f\"after_{n}days\"] = df_index_anomalies_after_n\n",
    "#     df_anomalies_after_n = anomalies_after_n['Date'].rename(f\"after_{n}days\")\n",
    "#     df_index_anomalies_after_n = df_anomalies_after_n.reindex(df_anomalies_2n, fill_value=1)\n",
    "#     df_index_anomalies_after_n = df_index_anomalies_after_n.reindex(idx, fill_value=0)\n",
    "# #     df_anomalies_after_n = df_anomalies_after_n.reindex(list(range(0, len(spx_returns))),fill_value=0)\n",
    "# #     df_anomalies_after_n = pd.concat([skipped_rows['0'].rename(f\"after_{n}days\"), df_anomalies_after_n], ignore_index=True)\n",
    "    \n",
    "    df_change_point = change_point.copy()\n",
    "    df_change_point[str(f\"{n} days CP\")] = 1\n",
    "    df_index_change_point = df_change_point.set_index('Date')\n",
    "    df_index_change_point = df_index_change_point.reindex(idx, fill_value=0)\n",
    "    \n",
    "#     signif_influence = pd.concat([df_signif_influence, df_anomalies_2n, df_mean_anom, df_anomalies_after_n], axis=1, ignore_index=False)\n",
    "    target = pd.concat([target, df_index_anomalies_2n, df_index_mean_anom, df_index_anomalies_after_n], axis=1)\n",
    "    change_points_mean = pd.concat([change_points_mean, df_index_change_point], axis=1)\n",
    "#     print(target)\n",
    "    print(printing, change_point)"
   ]
  },
  {
   "cell_type": "code",
   "execution_count": 31,
   "id": "d324db45",
   "metadata": {},
   "outputs": [],
   "source": [
    "target = target.fillna(0)\n",
    "target = target.drop(['0'], axis=1)"
   ]
  },
  {
   "cell_type": "code",
   "execution_count": 32,
   "id": "3b32a740",
   "metadata": {},
   "outputs": [
    {
     "data": {
      "text/html": [
       "<div>\n",
       "<style scoped>\n",
       "    .dataframe tbody tr th:only-of-type {\n",
       "        vertical-align: middle;\n",
       "    }\n",
       "\n",
       "    .dataframe tbody tr th {\n",
       "        vertical-align: top;\n",
       "    }\n",
       "\n",
       "    .dataframe thead th {\n",
       "        text-align: right;\n",
       "    }\n",
       "</style>\n",
       "<table border=\"1\" class=\"dataframe\">\n",
       "  <thead>\n",
       "    <tr style=\"text-align: right;\">\n",
       "      <th></th>\n",
       "      <th>within_2_5_days</th>\n",
       "      <th>signif_2_5_days</th>\n",
       "      <th>after_5days</th>\n",
       "      <th>within_2_10_days</th>\n",
       "      <th>signif_2_10_days</th>\n",
       "      <th>after_10days</th>\n",
       "      <th>within_2_15_days</th>\n",
       "      <th>signif_2_15_days</th>\n",
       "      <th>after_15days</th>\n",
       "      <th>within_2_20_days</th>\n",
       "      <th>signif_2_20_days</th>\n",
       "      <th>after_20days</th>\n",
       "    </tr>\n",
       "  </thead>\n",
       "  <tbody>\n",
       "    <tr>\n",
       "      <th>2014-12-30</th>\n",
       "      <td>0</td>\n",
       "      <td>0</td>\n",
       "      <td>0</td>\n",
       "      <td>0</td>\n",
       "      <td>0</td>\n",
       "      <td>0</td>\n",
       "      <td>0</td>\n",
       "      <td>0</td>\n",
       "      <td>0</td>\n",
       "      <td>0</td>\n",
       "      <td>0</td>\n",
       "      <td>0</td>\n",
       "    </tr>\n",
       "    <tr>\n",
       "      <th>2014-12-31</th>\n",
       "      <td>0</td>\n",
       "      <td>0</td>\n",
       "      <td>0</td>\n",
       "      <td>0</td>\n",
       "      <td>0</td>\n",
       "      <td>0</td>\n",
       "      <td>0</td>\n",
       "      <td>0</td>\n",
       "      <td>0</td>\n",
       "      <td>0</td>\n",
       "      <td>0</td>\n",
       "      <td>0</td>\n",
       "    </tr>\n",
       "    <tr>\n",
       "      <th>2015-01-01</th>\n",
       "      <td>0</td>\n",
       "      <td>0</td>\n",
       "      <td>0</td>\n",
       "      <td>0</td>\n",
       "      <td>0</td>\n",
       "      <td>0</td>\n",
       "      <td>0</td>\n",
       "      <td>0</td>\n",
       "      <td>0</td>\n",
       "      <td>0</td>\n",
       "      <td>0</td>\n",
       "      <td>0</td>\n",
       "    </tr>\n",
       "    <tr>\n",
       "      <th>2015-01-02</th>\n",
       "      <td>0</td>\n",
       "      <td>0</td>\n",
       "      <td>0</td>\n",
       "      <td>0</td>\n",
       "      <td>0</td>\n",
       "      <td>0</td>\n",
       "      <td>0</td>\n",
       "      <td>0</td>\n",
       "      <td>0</td>\n",
       "      <td>0</td>\n",
       "      <td>0</td>\n",
       "      <td>0</td>\n",
       "    </tr>\n",
       "    <tr>\n",
       "      <th>2015-01-03</th>\n",
       "      <td>0</td>\n",
       "      <td>0</td>\n",
       "      <td>0</td>\n",
       "      <td>0</td>\n",
       "      <td>0</td>\n",
       "      <td>0</td>\n",
       "      <td>0</td>\n",
       "      <td>0</td>\n",
       "      <td>0</td>\n",
       "      <td>0</td>\n",
       "      <td>0</td>\n",
       "      <td>0</td>\n",
       "    </tr>\n",
       "  </tbody>\n",
       "</table>\n",
       "</div>"
      ],
      "text/plain": [
       "            within_2_5_days  signif_2_5_days  after_5days  within_2_10_days  \\\n",
       "2014-12-30                0                0            0                 0   \n",
       "2014-12-31                0                0            0                 0   \n",
       "2015-01-01                0                0            0                 0   \n",
       "2015-01-02                0                0            0                 0   \n",
       "2015-01-03                0                0            0                 0   \n",
       "\n",
       "            signif_2_10_days  after_10days  within_2_15_days  \\\n",
       "2014-12-30                 0             0                 0   \n",
       "2014-12-31                 0             0                 0   \n",
       "2015-01-01                 0             0                 0   \n",
       "2015-01-02                 0             0                 0   \n",
       "2015-01-03                 0             0                 0   \n",
       "\n",
       "            signif_2_15_days  after_15days  within_2_20_days  \\\n",
       "2014-12-30                 0             0                 0   \n",
       "2014-12-31                 0             0                 0   \n",
       "2015-01-01                 0             0                 0   \n",
       "2015-01-02                 0             0                 0   \n",
       "2015-01-03                 0             0                 0   \n",
       "\n",
       "            signif_2_20_days  after_20days  \n",
       "2014-12-30                 0             0  \n",
       "2014-12-31                 0             0  \n",
       "2015-01-01                 0             0  \n",
       "2015-01-02                 0             0  \n",
       "2015-01-03                 0             0  "
      ]
     },
     "execution_count": 32,
     "metadata": {},
     "output_type": "execute_result"
    }
   ],
   "source": [
    "target.head()"
   ]
  },
  {
   "cell_type": "code",
   "execution_count": 33,
   "id": "585bec43",
   "metadata": {},
   "outputs": [],
   "source": [
    "change_points_mean = change_points_mean.drop(['0'], axis=1)"
   ]
  },
  {
   "cell_type": "code",
   "execution_count": 34,
   "id": "bf2ac6ba",
   "metadata": {},
   "outputs": [
    {
     "data": {
      "text/html": [
       "<div>\n",
       "<style scoped>\n",
       "    .dataframe tbody tr th:only-of-type {\n",
       "        vertical-align: middle;\n",
       "    }\n",
       "\n",
       "    .dataframe tbody tr th {\n",
       "        vertical-align: top;\n",
       "    }\n",
       "\n",
       "    .dataframe thead th {\n",
       "        text-align: right;\n",
       "    }\n",
       "</style>\n",
       "<table border=\"1\" class=\"dataframe\">\n",
       "  <thead>\n",
       "    <tr style=\"text-align: right;\">\n",
       "      <th></th>\n",
       "      <th>5 days CP</th>\n",
       "      <th>10 days CP</th>\n",
       "      <th>15 days CP</th>\n",
       "      <th>20 days CP</th>\n",
       "    </tr>\n",
       "  </thead>\n",
       "  <tbody>\n",
       "    <tr>\n",
       "      <th>2014-12-30</th>\n",
       "      <td>0</td>\n",
       "      <td>0</td>\n",
       "      <td>0</td>\n",
       "      <td>0</td>\n",
       "    </tr>\n",
       "    <tr>\n",
       "      <th>2014-12-31</th>\n",
       "      <td>0</td>\n",
       "      <td>0</td>\n",
       "      <td>0</td>\n",
       "      <td>0</td>\n",
       "    </tr>\n",
       "    <tr>\n",
       "      <th>2015-01-01</th>\n",
       "      <td>0</td>\n",
       "      <td>0</td>\n",
       "      <td>0</td>\n",
       "      <td>0</td>\n",
       "    </tr>\n",
       "    <tr>\n",
       "      <th>2015-01-02</th>\n",
       "      <td>0</td>\n",
       "      <td>0</td>\n",
       "      <td>0</td>\n",
       "      <td>0</td>\n",
       "    </tr>\n",
       "    <tr>\n",
       "      <th>2015-01-03</th>\n",
       "      <td>0</td>\n",
       "      <td>0</td>\n",
       "      <td>0</td>\n",
       "      <td>0</td>\n",
       "    </tr>\n",
       "  </tbody>\n",
       "</table>\n",
       "</div>"
      ],
      "text/plain": [
       "            5 days CP  10 days CP  15 days CP  20 days CP\n",
       "2014-12-30          0           0           0           0\n",
       "2014-12-31          0           0           0           0\n",
       "2015-01-01          0           0           0           0\n",
       "2015-01-02          0           0           0           0\n",
       "2015-01-03          0           0           0           0"
      ]
     },
     "execution_count": 34,
     "metadata": {},
     "output_type": "execute_result"
    }
   ],
   "source": [
    "change_points_mean.head()"
   ]
  },
  {
   "cell_type": "code",
   "execution_count": 35,
   "id": "4a56b582",
   "metadata": {},
   "outputs": [],
   "source": [
    "# target.to_csv('results/moex_anomalies.csv')\n",
    "# change_points_mean.to_csv('results/moex_change_points_mean.csv')"
   ]
  },
  {
   "cell_type": "code",
   "execution_count": 36,
   "id": "b7055379",
   "metadata": {},
   "outputs": [
    {
     "data": {
      "text/plain": [
       "\"\\nsignif_influence = signif_influence.drop(['0'], axis=1)\\n\""
      ]
     },
     "execution_count": 36,
     "metadata": {},
     "output_type": "execute_result"
    }
   ],
   "source": [
    "\"\"\"\n",
    "signif_influence = signif_influence.drop(['0'], axis=1)\n",
    "\"\"\""
   ]
  },
  {
   "cell_type": "code",
   "execution_count": 37,
   "id": "e0623c37",
   "metadata": {},
   "outputs": [
    {
     "data": {
      "text/plain": [
       "\"\\nsignif_influence = signif_influence.fillna(value='empty')\\nsignif_influence.sort_index()\\n\""
      ]
     },
     "execution_count": 37,
     "metadata": {},
     "output_type": "execute_result"
    }
   ],
   "source": [
    "\"\"\"\n",
    "signif_influence = signif_influence.fillna(value='empty')\n",
    "signif_influence.sort_index()\n",
    "\"\"\""
   ]
  },
  {
   "cell_type": "code",
   "execution_count": 38,
   "id": "8ad6661a",
   "metadata": {},
   "outputs": [
    {
     "data": {
      "text/plain": [
       "\"\\nsignif_influence = pd.concat([signif_influence, spx_returns.reset_index(drop=False)['Date']], axis=1)\\n\""
      ]
     },
     "execution_count": 38,
     "metadata": {},
     "output_type": "execute_result"
    }
   ],
   "source": [
    "\"\"\"\n",
    "signif_influence = pd.concat([signif_influence, spx_returns.reset_index(drop=False)['Date']], axis=1)\n",
    "\"\"\""
   ]
  },
  {
   "cell_type": "code",
   "execution_count": 39,
   "id": "95bfed43",
   "metadata": {},
   "outputs": [],
   "source": [
    "# signif_influence"
   ]
  },
  {
   "cell_type": "code",
   "execution_count": 40,
   "id": "743a2ac3",
   "metadata": {},
   "outputs": [
    {
     "data": {
      "text/plain": [
       "\"\\nconf_anomalies = signif_influence.copy()\\n\\nfor col in signif_influence.columns:\\n    for date in range(len(signif_influence)):\\n        date_column = list(signif_influence.columns).index('Date')\\n        actual_column = list(signif_influence.columns).index(col)\\n        if signif_influence[col].isin(signif_influence.iloc[date, date_column]) == True:\\n            conf_anomalies.iloc[date, actual_column] = 1\\n        else:\\n            conf_anomalies.iloc[date, actual_column] = 0\\n\""
      ]
     },
     "execution_count": 40,
     "metadata": {},
     "output_type": "execute_result"
    }
   ],
   "source": [
    "\"\"\"\n",
    "conf_anomalies = signif_influence.copy()\n",
    "\n",
    "for col in signif_influence.columns:\n",
    "    for date in range(len(signif_influence)):\n",
    "        date_column = list(signif_influence.columns).index('Date')\n",
    "        actual_column = list(signif_influence.columns).index(col)\n",
    "        if signif_influence[col].isin(signif_influence.iloc[date, date_column]) == True:\n",
    "            conf_anomalies.iloc[date, actual_column] = 1\n",
    "        else:\n",
    "            conf_anomalies.iloc[date, actual_column] = 0\n",
    "\"\"\""
   ]
  },
  {
   "cell_type": "markdown",
   "id": "e7fe8339",
   "metadata": {},
   "source": [
    "## MMD"
   ]
  },
  {
   "cell_type": "code",
   "execution_count": null,
   "id": "01da7f7b",
   "metadata": {},
   "outputs": [],
   "source": []
  },
  {
   "cell_type": "markdown",
   "id": "fa2f94b8",
   "metadata": {},
   "source": [
    "## 3 sigmas"
   ]
  },
  {
   "cell_type": "code",
   "execution_count": 41,
   "id": "a2c911aa",
   "metadata": {},
   "outputs": [],
   "source": [
    "def sigma_method(data, sigma=3):\n",
    "    mu = spx_returns.mean()\n",
    "    dev = spx_returns.std()\n",
    "    lower = mu - sigma * dev\n",
    "    upper = mu + sigma * dev\n",
    "    \n",
    "    lower_anomalies = spx_returns[spx_returns <= lower]\n",
    "    upper_anomalies = spx_returns[spx_returns >= upper]\n",
    "    \n",
    "    spx_statistical_anomalies = pd.concat([lower_anomalies, upper_anomalies])\n",
    "    \n",
    "    return spx_statistical_anomalies"
   ]
  },
  {
   "cell_type": "code",
   "execution_count": 42,
   "id": "f676368d",
   "metadata": {},
   "outputs": [],
   "source": [
    "spx_statistical_anomalies = sigma_method(data=spx_returns, sigma=3)"
   ]
  },
  {
   "cell_type": "code",
   "execution_count": 43,
   "id": "7803ce6e",
   "metadata": {},
   "outputs": [
    {
     "name": "stdout",
     "output_type": "stream",
     "text": [
      "Number of statistical anomalies: 26\n"
     ]
    }
   ],
   "source": [
    "print(f\"Number of statistical anomalies: {spx_statistical_anomalies.count()}\")"
   ]
  },
  {
   "cell_type": "code",
   "execution_count": 44,
   "id": "4fcd95c9",
   "metadata": {},
   "outputs": [
    {
     "data": {
      "text/html": [
       "<div>\n",
       "<style scoped>\n",
       "    .dataframe tbody tr th:only-of-type {\n",
       "        vertical-align: middle;\n",
       "    }\n",
       "\n",
       "    .dataframe tbody tr th {\n",
       "        vertical-align: top;\n",
       "    }\n",
       "\n",
       "    .dataframe thead th {\n",
       "        text-align: right;\n",
       "    }\n",
       "</style>\n",
       "<table border=\"1\" class=\"dataframe\">\n",
       "  <thead>\n",
       "    <tr style=\"text-align: right;\">\n",
       "      <th></th>\n",
       "      <th>3_sigma</th>\n",
       "    </tr>\n",
       "  </thead>\n",
       "  <tbody>\n",
       "    <tr>\n",
       "      <th>2014-12-30</th>\n",
       "      <td>0</td>\n",
       "    </tr>\n",
       "    <tr>\n",
       "      <th>2014-12-31</th>\n",
       "      <td>0</td>\n",
       "    </tr>\n",
       "    <tr>\n",
       "      <th>2015-01-01</th>\n",
       "      <td>0</td>\n",
       "    </tr>\n",
       "    <tr>\n",
       "      <th>2015-01-02</th>\n",
       "      <td>0</td>\n",
       "    </tr>\n",
       "    <tr>\n",
       "      <th>2015-01-03</th>\n",
       "      <td>0</td>\n",
       "    </tr>\n",
       "  </tbody>\n",
       "</table>\n",
       "</div>"
      ],
      "text/plain": [
       "            3_sigma\n",
       "2014-12-30        0\n",
       "2014-12-31        0\n",
       "2015-01-01        0\n",
       "2015-01-02        0\n",
       "2015-01-03        0"
      ]
     },
     "execution_count": 44,
     "metadata": {},
     "output_type": "execute_result"
    }
   ],
   "source": [
    "# setting zeros and ones to each date\n",
    "df_spx_statistical_anomalies = pd.DataFrame(spx_statistical_anomalies)\n",
    "df_spx_statistical_anomalies['3_sigma'] = 1\n",
    "df_spx_statistical_anomalies = df_spx_statistical_anomalies.drop(method, axis=1)\n",
    "df_spx_statistical_anomalies = df_spx_statistical_anomalies.reindex(idx, fill_value=0)\n",
    "df_spx_statistical_anomalies.head()"
   ]
  },
  {
   "cell_type": "code",
   "execution_count": 45,
   "id": "5ef11274",
   "metadata": {},
   "outputs": [],
   "source": [
    "# df_spx_statistical_anomalies.to_csv('results/3_sigma_moex.csv')"
   ]
  },
  {
   "cell_type": "markdown",
   "id": "1478e7db",
   "metadata": {},
   "source": [
    "## Tech_analysis"
   ]
  },
  {
   "cell_type": "code",
   "execution_count": 46,
   "id": "09363eab",
   "metadata": {},
   "outputs": [],
   "source": [
    "# simple moving average\n",
    "\n",
    "def sma(data, window):\n",
    "    sma = data.rolling(window = window).mean()\n",
    "    return sma"
   ]
  },
  {
   "cell_type": "code",
   "execution_count": 47,
   "id": "1b2e1432",
   "metadata": {},
   "outputs": [
    {
     "data": {
      "text/plain": [
       "Date\n",
       "2015-01-16           NaN\n",
       "2015-01-19           NaN\n",
       "2015-01-20           NaN\n",
       "2015-01-21           NaN\n",
       "2015-01-22    1604.70603\n",
       "Name: SMA_20, dtype: float64"
      ]
     },
     "execution_count": 47,
     "metadata": {},
     "output_type": "execute_result"
    }
   ],
   "source": [
    "spx_index_bol = spx_index.copy()\n",
    "spx_index_bol['SMA_20'] = sma(spx_index_bol[method], 5)\n",
    "spx_index_bol['SMA_20'].head()"
   ]
  },
  {
   "cell_type": "code",
   "execution_count": 48,
   "id": "8dadef43",
   "metadata": {},
   "outputs": [],
   "source": [
    "# bollindger bands\n",
    "\n",
    "def bb(data, sma, window):\n",
    "    std = data.rolling(window = window).std()\n",
    "    upper_bb = sma + std * 2\n",
    "    lower_bb = sma - std * 2\n",
    "    return upper_bb, lower_bb"
   ]
  },
  {
   "cell_type": "code",
   "execution_count": 49,
   "id": "7516e307",
   "metadata": {},
   "outputs": [
    {
     "data": {
      "text/html": [
       "<div>\n",
       "<style scoped>\n",
       "    .dataframe tbody tr th:only-of-type {\n",
       "        vertical-align: middle;\n",
       "    }\n",
       "\n",
       "    .dataframe tbody tr th {\n",
       "        vertical-align: top;\n",
       "    }\n",
       "\n",
       "    .dataframe thead th {\n",
       "        text-align: right;\n",
       "    }\n",
       "</style>\n",
       "<table border=\"1\" class=\"dataframe\">\n",
       "  <thead>\n",
       "    <tr style=\"text-align: right;\">\n",
       "      <th></th>\n",
       "      <th>High</th>\n",
       "      <th>Low</th>\n",
       "      <th>Open</th>\n",
       "      <th>Close</th>\n",
       "      <th>Volume</th>\n",
       "      <th>Adj Close</th>\n",
       "      <th>SMA_20</th>\n",
       "      <th>upper_bb</th>\n",
       "      <th>lower_bb</th>\n",
       "    </tr>\n",
       "    <tr>\n",
       "      <th>Date</th>\n",
       "      <th></th>\n",
       "      <th></th>\n",
       "      <th></th>\n",
       "      <th></th>\n",
       "      <th></th>\n",
       "      <th></th>\n",
       "      <th></th>\n",
       "      <th></th>\n",
       "      <th></th>\n",
       "    </tr>\n",
       "  </thead>\n",
       "  <tbody>\n",
       "    <tr>\n",
       "      <th>2021-12-30</th>\n",
       "      <td>3789.610107</td>\n",
       "      <td>3740.929932</td>\n",
       "      <td>3753.919922</td>\n",
       "      <td>3787.260010</td>\n",
       "      <td>0.0</td>\n",
       "      <td>3787.260010</td>\n",
       "      <td>3749.847998</td>\n",
       "      <td>3817.306827</td>\n",
       "      <td>3682.389169</td>\n",
       "    </tr>\n",
       "    <tr>\n",
       "      <th>2022-01-03</th>\n",
       "      <td>3866.149902</td>\n",
       "      <td>3823.500000</td>\n",
       "      <td>3825.300049</td>\n",
       "      <td>3852.500000</td>\n",
       "      <td>0.0</td>\n",
       "      <td>3852.500000</td>\n",
       "      <td>3779.804004</td>\n",
       "      <td>3871.347790</td>\n",
       "      <td>3688.260218</td>\n",
       "    </tr>\n",
       "    <tr>\n",
       "      <th>2022-01-04</th>\n",
       "      <td>3892.330078</td>\n",
       "      <td>3846.810059</td>\n",
       "      <td>3880.199951</td>\n",
       "      <td>3873.489990</td>\n",
       "      <td>0.0</td>\n",
       "      <td>3873.489990</td>\n",
       "      <td>3806.376025</td>\n",
       "      <td>3916.341271</td>\n",
       "      <td>3696.410779</td>\n",
       "    </tr>\n",
       "    <tr>\n",
       "      <th>2022-01-05</th>\n",
       "      <td>3875.250000</td>\n",
       "      <td>3805.060059</td>\n",
       "      <td>3857.899902</td>\n",
       "      <td>3815.050049</td>\n",
       "      <td>0.0</td>\n",
       "      <td>3815.050049</td>\n",
       "      <td>3813.874023</td>\n",
       "      <td>3919.022177</td>\n",
       "      <td>3708.725870</td>\n",
       "    </tr>\n",
       "    <tr>\n",
       "      <th>2022-01-06</th>\n",
       "      <td>3784.169922</td>\n",
       "      <td>3720.169922</td>\n",
       "      <td>3758.679932</td>\n",
       "      <td>3753.290039</td>\n",
       "      <td>0.0</td>\n",
       "      <td>3753.290039</td>\n",
       "      <td>3816.318018</td>\n",
       "      <td>3913.252387</td>\n",
       "      <td>3719.383648</td>\n",
       "    </tr>\n",
       "  </tbody>\n",
       "</table>\n",
       "</div>"
      ],
      "text/plain": [
       "                   High          Low         Open        Close  Volume  \\\n",
       "Date                                                                     \n",
       "2021-12-30  3789.610107  3740.929932  3753.919922  3787.260010     0.0   \n",
       "2022-01-03  3866.149902  3823.500000  3825.300049  3852.500000     0.0   \n",
       "2022-01-04  3892.330078  3846.810059  3880.199951  3873.489990     0.0   \n",
       "2022-01-05  3875.250000  3805.060059  3857.899902  3815.050049     0.0   \n",
       "2022-01-06  3784.169922  3720.169922  3758.679932  3753.290039     0.0   \n",
       "\n",
       "              Adj Close       SMA_20     upper_bb     lower_bb  \n",
       "Date                                                            \n",
       "2021-12-30  3787.260010  3749.847998  3817.306827  3682.389169  \n",
       "2022-01-03  3852.500000  3779.804004  3871.347790  3688.260218  \n",
       "2022-01-04  3873.489990  3806.376025  3916.341271  3696.410779  \n",
       "2022-01-05  3815.050049  3813.874023  3919.022177  3708.725870  \n",
       "2022-01-06  3753.290039  3816.318018  3913.252387  3719.383648  "
      ]
     },
     "execution_count": 49,
     "metadata": {},
     "output_type": "execute_result"
    }
   ],
   "source": [
    "spx_index_bol['upper_bb'], spx_index_bol['lower_bb'] = bb(spx_index_bol[method], spx_index_bol['SMA_20'], 5)\n",
    "spx_index_bol.tail()"
   ]
  },
  {
   "cell_type": "code",
   "execution_count": 50,
   "id": "3ff04a6b",
   "metadata": {},
   "outputs": [
    {
     "data": {
      "text/plain": [
       "0    1361\n",
       "1     377\n",
       "Name: outliers_from_tech, dtype: int64"
      ]
     },
     "execution_count": 50,
     "metadata": {},
     "output_type": "execute_result"
    }
   ],
   "source": [
    "spx_index_bol['low_out'] = 0\n",
    "spx_index_bol['high_out'] = 0\n",
    "spx_index_bol.loc[spx_index_bol['Low'] < spx_index_bol['lower_bb'], 'low_out'] = 1\n",
    "spx_index_bol.loc[spx_index_bol['High'] > spx_index_bol['upper_bb'], 'high_out'] = 1\n",
    "spx_index_bol['outliers_from_tech'] = 0\n",
    "spx_index_bol.loc[spx_index_bol['low_out'] == 1, 'outliers_from_tech'] = 1\n",
    "spx_index_bol.loc[spx_index_bol['high_out'] == 1, 'outliers_from_tech'] = 1\n",
    "spx_index_bol['outliers_from_tech'].value_counts()"
   ]
  },
  {
   "cell_type": "code",
   "execution_count": 51,
   "id": "7346a0dc",
   "metadata": {},
   "outputs": [
    {
     "data": {
      "image/png": "[encoded data removed]",
      "text/plain": [
       "<Figure size 1440x800 with 1 Axes>"
      ]
     },
     "metadata": {
      "needs_background": "light"
     },
     "output_type": "display_data"
    }
   ],
   "source": [
    "figure(figsize=(18, 10), dpi=80)\n",
    "spx_index_bol[method].plot(label = 'CLOSE PRICES', color = 'skyblue')\n",
    "spx_index_bol['upper_bb'].plot(label = 'UPPER BB 20', linestyle = '--', linewidth = 1, color = 'black')\n",
    "spx_index_bol['SMA_20'].plot(label = 'MIDDLE BB 20', linestyle = '--', linewidth = 1.2, color = 'grey')\n",
    "spx_index_bol['lower_bb'].plot(label = 'LOWER BB 20', linestyle = '--', linewidth = 1, color = 'black')\n",
    "plt.legend(loc = 'upper left')\n",
    "plt.title('S&P500 BOLLINGER BANDS')\n",
    "plt.show()"
   ]
  },
  {
   "cell_type": "code",
   "execution_count": 65,
   "id": "2e27a7ab",
   "metadata": {},
   "outputs": [
    {
     "data": {
      "text/plain": [
       "2014-12-30    0\n",
       "2014-12-31    0\n",
       "2015-01-01    0\n",
       "2015-01-02    0\n",
       "2015-01-03    0\n",
       "Freq: D, Name: outliers_from_tech, dtype: int64"
      ]
     },
     "execution_count": 65,
     "metadata": {},
     "output_type": "execute_result"
    }
   ],
   "source": [
    "# spx_index_bol[spx_index_bol['outliers_from_tech'] == 1].reset_index(drop=False)['Date'] outliers without boolean\n",
    "outliers_tech = spx_index_bol['outliers_from_tech']\n",
    "outliers_tech = outliers_tech.reindex(idx, fill_value=0)\n",
    "outliers_tech.head()"
   ]
  },
  {
   "cell_type": "code",
   "execution_count": 66,
   "id": "fd5d5a23",
   "metadata": {},
   "outputs": [],
   "source": [
    "# outliers_tech.to_csv('results/outliers_tech_moex.csv')"
   ]
  },
  {
   "cell_type": "markdown",
   "id": "fd46f47b",
   "metadata": {},
   "source": [
    "## PELT"
   ]
  },
  {
   "cell_type": "code",
   "execution_count": 54,
   "id": "78b0b934",
   "metadata": {},
   "outputs": [],
   "source": [
    "k = spx_index[method].reset_index(drop='True')\n",
    "k = k.to_numpy()\n",
    "k1 = spx_returns.reset_index(drop='True')\n",
    "k1 = k1.to_numpy()"
   ]
  },
  {
   "cell_type": "code",
   "execution_count": 55,
   "id": "6afe1674",
   "metadata": {},
   "outputs": [],
   "source": [
    "def normal_var(data, mean):\n",
    "  \n",
    "    if not isinstance(data, np.ndarray):\n",
    "        data = np.array(data)\n",
    "\n",
    "    cumm = [0.0]\n",
    "    cumm.extend(np.cumsum(np.power(np.abs(data - mean), 2)))\n",
    "\n",
    "    def cost(s, t):\n",
    "        dist = float(t - s)\n",
    "        diff = cumm[t] - cumm[s]\n",
    "        return dist * (np.log(2*math.pi)+np.log(diff/dist)+1)\n",
    "\n",
    "    return cost"
   ]
  },
  {
   "cell_type": "code",
   "execution_count": 56,
   "id": "aaa0dba7",
   "metadata": {},
   "outputs": [],
   "source": [
    "def normal_meanvar(data):\n",
    "\n",
    "    data = np.hstack(([0.0], np.array(data)))\n",
    "\n",
    "    cumm = np.cumsum(data)\n",
    "    cumm_sq = np.cumsum([val**2 for val in data])\n",
    "\n",
    "    def cost(s, t):\n",
    "        ts_i = 1.0 / (t-s)\n",
    "        mu = (cumm[t] - cumm[s]) * ts_i\n",
    "        sig = (cumm_sq[t] - cumm_sq[s]) * ts_i - mu**2\n",
    "        sig_i = 1.0 / sig\n",
    "        return (t-s) * np.log(sig) + (cumm_sq[t] - cumm_sq[s]) * sig_i - 2*(cumm[t] - cumm[s])*mu*sig_i + ((t-s)*mu**2)*sig_i\n",
    "\n",
    "    return cost"
   ]
  },
  {
   "cell_type": "code",
   "execution_count": 57,
   "id": "23076ca4",
   "metadata": {},
   "outputs": [],
   "source": [
    "def find_min(arr, val=0.0):\n",
    "    return min(arr) + val, np.argmin(arr)"
   ]
  },
  {
   "cell_type": "code",
   "execution_count": 58,
   "id": "c43a6113",
   "metadata": {},
   "outputs": [],
   "source": [
    "def pelt(cost, length, pen=None):\n",
    "\n",
    "    if pen is None:\n",
    "        pen = 2 * np.log(length)\n",
    "\n",
    "    F = np.zeros(length + 1)\n",
    "    R = np.array([0], dtype=np.int64)\n",
    "    candidates = np.zeros(length + 1, dtype=np.int64)\n",
    "\n",
    "    F[0] = -pen\n",
    "\n",
    "    for tstar in range(2, length + 1):\n",
    "        cpt_cands = R\n",
    "        seg_costs = np.zeros(len(cpt_cands))\n",
    "        for i in range(0, len(cpt_cands)):\n",
    "            seg_costs[i] = cost(cpt_cands[i], tstar)\n",
    "\n",
    "        F_cost = F[cpt_cands] + seg_costs\n",
    "        F[tstar], tau = find_min(F_cost, pen)\n",
    "        candidates[tstar] = cpt_cands[tau]\n",
    "\n",
    "        ineq_prune = [val < F[tstar] for val in F_cost]\n",
    "        R = [cpt_cands[j] for j, val in enumerate(ineq_prune) if val]\n",
    "        R.append(tstar - 1)\n",
    "        R = np.array(R, dtype=np.int64)\n",
    "\n",
    "    last = candidates[-1]\n",
    "    changepoints = [last]\n",
    "    while last > 0:\n",
    "        last = candidates[last]\n",
    "        changepoints.append(last)\n",
    "\n",
    "    return sorted(changepoints)"
   ]
  },
  {
   "cell_type": "code",
   "execution_count": 59,
   "id": "d7cfa0e8",
   "metadata": {},
   "outputs": [
    {
     "name": "stdout",
     "output_type": "stream",
     "text": [
      "[0, 1, 744, 1456]\n",
      "[0, 3, 15, 35, 38, 51, 82, 126, 128, 134, 154, 171, 181, 184, 200, 210, 219, 222, 244, 248, 253, 255, 272, 281, 295, 306, 313, 321, 344, 346, 368, 373, 375, 378, 380, 391, 406, 413, 415, 435, 453, 463, 471, 474, 519, 521, 529, 536, 538, 540, 558, 568, 582, 591, 614, 619, 627, 635, 637, 653, 655, 663, 673, 681, 691, 703, 709, 713, 719, 727, 734, 741, 747, 750, 763, 774, 778, 798, 805, 809, 811, 819, 827, 835, 839, 842, 853, 866, 896, 901, 904, 906, 910, 913, 926, 933, 941, 986, 992, 1000, 1010, 1033, 1042, 1047, 1068, 1070, 1075, 1084, 1094, 1103, 1108, 1111, 1113, 1115, 1123, 1127, 1148, 1150, 1164, 1170, 1180, 1184, 1190, 1221, 1227, 1230, 1232, 1234, 1247, 1267, 1269, 1276, 1278, 1286, 1293, 1312, 1320, 1323, 1366, 1370, 1377, 1382, 1388, 1390, 1392, 1410, 1422, 1428, 1436, 1444, 1447, 1449, 1456, 1461, 1467, 1481, 1484, 1493, 1504, 1524, 1549, 1563, 1578, 1583, 1604, 1614, 1623, 1632, 1648, 1656, 1661, 1663, 1672, 1689, 1699, 1704, 1720, 1723]\n"
     ]
    }
   ],
   "source": [
    "data_index = k\n",
    "data_returns = k1\n",
    "mean = 0.0\n",
    "cost1 = normal_var(data_index, mean)\n",
    "cost2 = normal_meanvar(data_index)\n",
    "result1 = pelt(cost1, len(data_index))\n",
    "result2 = pelt(cost2, len(data_index))\n",
    "print(result1)\n",
    "print(result2)"
   ]
  },
  {
   "cell_type": "code",
   "execution_count": 60,
   "id": "ebf8bed6",
   "metadata": {},
   "outputs": [],
   "source": [
    "final = pd.DataFrame(0, index=spx_index.index, columns=['numbers', 'pelt'])\n",
    "final['numbers'] = spx_index.reset_index(drop=True).index\n",
    "for i in result2:\n",
    "    final.loc[(final['numbers'] == i), 'pelt'] = 1"
   ]
  },
  {
   "cell_type": "code",
   "execution_count": 61,
   "id": "6bd51dc2",
   "metadata": {},
   "outputs": [
    {
     "data": {
      "text/plain": [
       "178"
      ]
     },
     "execution_count": 61,
     "metadata": {},
     "output_type": "execute_result"
    }
   ],
   "source": [
    "len(result2)"
   ]
  },
  {
   "cell_type": "code",
   "execution_count": 67,
   "id": "0e2813f9",
   "metadata": {},
   "outputs": [
    {
     "data": {
      "text/plain": [
       "2014-12-30    0\n",
       "2014-12-31    0\n",
       "2015-01-01    0\n",
       "2015-01-02    0\n",
       "2015-01-03    0\n",
       "Freq: D, Name: pelt, dtype: int64"
      ]
     },
     "execution_count": 67,
     "metadata": {},
     "output_type": "execute_result"
    }
   ],
   "source": [
    "pelt_analysis = final['pelt']\n",
    "pelt_analysis = pelt_analysis.reindex(idx, fill_value=0)\n",
    "pelt_analysis.head()"
   ]
  },
  {
   "cell_type": "code",
   "execution_count": 63,
   "id": "ce603a8e",
   "metadata": {},
   "outputs": [],
   "source": [
    "# pelt_analysis.to_csv('results/pelt_moex.csv')"
   ]
  },
  {
   "cell_type": "code",
   "execution_count": 64,
   "id": "7f119efa",
   "metadata": {},
   "outputs": [],
   "source": [
    "# final['pelt'].to_csv('pelt.csv')"
   ]
  }
 ],
 "metadata": {
  "kernelspec": {
   "display_name": "Python 3 (ipykernel)",
   "language": "python",
   "name": "python3"
  },
  "language_info": {
   "codemirror_mode": {
    "name": "ipython",
    "version": 3
   },
   "file_extension": ".py",
   "mimetype": "text/x-python",
   "name": "python",
   "nbconvert_exporter": "python",
   "pygments_lexer": "ipython3",
   "version": "3.9.12"
  }
 },
 "nbformat": 4,
 "nbformat_minor": 5
}
